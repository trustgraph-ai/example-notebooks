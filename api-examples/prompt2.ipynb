{
 "cells": [
  {
   "cell_type": "code",
   "execution_count": null,
   "id": "ce2ee126-6e7e-45c8-9d1c-b9e6c3f68fee",
   "metadata": {},
   "outputs": [],
   "source": [
    "# Graph visualization\n",
    "\n",
    "This notebook demonstrates the use of the TrustGraph triple store API to fetch information from the knowledge graph. This information is then visualized using the networkX graph visualisation library.  This notebook was executed against a running TrustGraph loaded with the space shuttle challenger report from NASA located here:\n",
    "\n",
    "https://ntrs.nasa.gov/citations/19860015255"
   ]
  },
  {
   "cell_type": "code",
   "execution_count": 1,
   "id": "cf1909b0-26a1-432a-9567-e0e053855c0c",
   "metadata": {},
   "outputs": [],
   "source": [
    "import requests\n",
    "import json"
   ]
  },
  {
   "cell_type": "code",
   "execution_count": 2,
   "id": "ec5bcb93-8f0d-4450-b31e-7f7e60d57180",
   "metadata": {},
   "outputs": [],
   "source": [
    "# URL of the TrustGraph triplestore query API\n",
    "url = \"http://localhost:8088/api/v1/prompt\""
   ]
  },
  {
   "cell_type": "code",
   "execution_count": 3,
   "id": "96b8a3df-0c77-4ff8-a303-f778ada38424",
   "metadata": {},
   "outputs": [],
   "source": [
    "input = {\n",
    "    \"id\": \"extract-definitions\",\n",
    "    \"variables\": {\n",
    "        \"text\": \"A cat is a large mammal.\"\n",
    "    }\n",
    "}"
   ]
  },
  {
   "cell_type": "code",
   "execution_count": 4,
   "id": "8726b4b9-16bf-46d8-b866-b39901ed5b86",
   "metadata": {},
   "outputs": [],
   "source": [
    "resp = requests.post(url, json=input)"
   ]
  },
  {
   "cell_type": "code",
   "execution_count": 5,
   "id": "b054dc90-d987-467c-9556-31e669b4bd3e",
   "metadata": {},
   "outputs": [
    {
     "data": {
      "text/plain": [
       "200"
      ]
     },
     "execution_count": 5,
     "metadata": {},
     "output_type": "execute_result"
    }
   ],
   "source": [
    "# Should be a 200 status code\n",
    "resp.status_code"
   ]
  },
  {
   "cell_type": "code",
   "execution_count": 6,
   "id": "875ef3c1-662c-49fc-8ad4-0fdc172846ae",
   "metadata": {},
   "outputs": [],
   "source": [
    "resp = resp.json()"
   ]
  },
  {
   "cell_type": "markdown",
   "id": "1f56e884-e4b8-4e90-bdde-cc619cd11ff4",
   "metadata": {},
   "source": [
    "## note\n",
    "\n",
    "The output of the extract-definitions prompt is JSON-encoded and has already been validated against a schema.  "
   ]
  },
  {
   "cell_type": "code",
   "execution_count": 7,
   "id": "6acc6245-4685-46be-a2d5-f0daca36dff1",
   "metadata": {},
   "outputs": [],
   "source": [
    "# JSON-decode to Python object\n",
    "object = json.loads(resp[\"object\"])"
   ]
  },
  {
   "cell_type": "code",
   "execution_count": 8,
   "id": "bed0760f-2993-4c5a-acf2-19321fa76794",
   "metadata": {},
   "outputs": [
    {
     "data": {
      "text/plain": [
       "[{'entity': 'cat', 'definition': 'a large mammal'},\n",
       " {'entity': 'mammal', 'definition': 'a large mammal'}]"
      ]
     },
     "execution_count": 8,
     "metadata": {},
     "output_type": "execute_result"
    }
   ],
   "source": [
    "object"
   ]
  },
  {
   "cell_type": "code",
   "execution_count": null,
   "id": "77fa6008-ff36-4124-83c2-3fb9f19228c1",
   "metadata": {},
   "outputs": [],
   "source": []
  }
 ],
 "metadata": {
  "kernelspec": {
   "display_name": "Python 3 (ipykernel)",
   "language": "python",
   "name": "python3"
  },
  "language_info": {
   "codemirror_mode": {
    "name": "ipython",
    "version": 3
   },
   "file_extension": ".py",
   "mimetype": "text/x-python",
   "name": "python",
   "nbconvert_exporter": "python",
   "pygments_lexer": "ipython3",
   "version": "3.13.0"
  }
 },
 "nbformat": 4,
 "nbformat_minor": 5
}
