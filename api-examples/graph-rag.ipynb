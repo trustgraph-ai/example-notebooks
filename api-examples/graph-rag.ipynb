{
 "cells": [
  {
   "cell_type": "markdown",
   "id": "ce5dc503-6606-42f1-8297-10df87ea5137",
   "metadata": {},
   "source": [
    "# Graph visualization\n",
    "\n",
    "This notebook demonstrates the use of the TrustGraph triple store API to fetch information from the knowledge graph. This information is then visualized using the networkX graph visualisation library.  This notebook was executed against a running TrustGraph loaded with the space shuttle challenger report from NASA located here:\n",
    "\n",
    "https://ntrs.nasa.gov/citations/19860015255"
   ]
  },
  {
   "cell_type": "code",
   "execution_count": 1,
   "id": "cf1909b0-26a1-432a-9567-e0e053855c0c",
   "metadata": {},
   "outputs": [],
   "source": [
    "import requests\n",
    "import json"
   ]
  },
  {
   "cell_type": "code",
   "execution_count": 2,
   "id": "523f2f59-6fbe-44cb-8a03-2f3d78bbc8d0",
   "metadata": {},
   "outputs": [],
   "source": [
    "# URL of the TrustGraph triplestore query API\n",
    "url = \"http://localhost:8088/api/v1/graph-rag\""
   ]
  },
  {
   "cell_type": "code",
   "execution_count": 3,
   "id": "786d9a9f-8422-4415-a818-b96571332255",
   "metadata": {},
   "outputs": [],
   "source": [
    "input = {\n",
    "    \"query\": \"Give me 10 facts\",\n",
    "}"
   ]
  },
  {
   "cell_type": "code",
   "execution_count": 4,
   "id": "cad74770-38e0-4263-90d3-60d4ef160497",
   "metadata": {},
   "outputs": [],
   "source": [
    "resp = requests.post(url, json=input)"
   ]
  },
  {
   "cell_type": "code",
   "execution_count": 5,
   "id": "048eac62-7d33-46de-b75d-d122b8a3a6fe",
   "metadata": {},
   "outputs": [
    {
     "data": {
      "text/plain": [
       "200"
      ]
     },
     "execution_count": 5,
     "metadata": {},
     "output_type": "execute_result"
    }
   ],
   "source": [
    "# Should be a 200 status code\n",
    "resp.status_code"
   ]
  },
  {
   "cell_type": "code",
   "execution_count": 6,
   "id": "0a2ae8fa-94ac-4d72-9a81-0509f645dc4a",
   "metadata": {},
   "outputs": [],
   "source": [
    "object = resp.json()"
   ]
  },
  {
   "cell_type": "code",
   "execution_count": 7,
   "id": "c77399ab-ee1e-4410-b1a4-1dc7141e2dd2",
   "metadata": {},
   "outputs": [
    {
     "name": "stdout",
     "output_type": "stream",
     "text": [
      "Here are 10 facts from the provided knowledge statements:\n",
      "\n",
      "1. Arnold Aldrich appeared before the Commission.\n",
      "2. The Commission was concerned about three aspects of the ice-on-the-pad issue.\n",
      "3. NASA appeared to be requiring a contractor to prove that it was not safe to launch.\n",
      "4. Joleen A B Bottalico and Marilyn Stumpf handled Travel Coordination for NASA.\n",
      "5. Earlier meetings involved aspiration work and ricochet work.\n",
      "6. The Crew reported ice.\n",
      "7. Payload specialists were assigned by NASA.\n",
      "8. Thiokol made a recommendation not to launch.\n",
      "9. The Commission reviewed deviations.\n",
      "10. Preliminary results indicated the test chamber needed to be redesigned.\n",
      "\n"
     ]
    }
   ],
   "source": [
    "print(object[\"response\"])"
   ]
  },
  {
   "cell_type": "code",
   "execution_count": null,
   "id": "234b03df-da21-4289-be0c-40000a44249a",
   "metadata": {},
   "outputs": [],
   "source": []
  }
 ],
 "metadata": {
  "kernelspec": {
   "display_name": "Python 3 (ipykernel)",
   "language": "python",
   "name": "python3"
  },
  "language_info": {
   "codemirror_mode": {
    "name": "ipython",
    "version": 3
   },
   "file_extension": ".py",
   "mimetype": "text/x-python",
   "name": "python",
   "nbconvert_exporter": "python",
   "pygments_lexer": "ipython3",
   "version": "3.13.0"
  }
 },
 "nbformat": 4,
 "nbformat_minor": 5
}
