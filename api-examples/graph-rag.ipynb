{
 "cells": [
  {
   "cell_type": "markdown",
   "id": "ce5dc503-6606-42f1-8297-10df87ea5137",
   "metadata": {},
   "source": [
    "# Graph RAG\n",
    "\n",
    "This notebook demonstrates the use of the TrustGraph graph RAG API to fetch information from the knowledge graph."
   ]
  },
  {
   "cell_type": "code",
   "execution_count": 1,
   "id": "cf1909b0-26a1-432a-9567-e0e053855c0c",
   "metadata": {},
   "outputs": [],
   "source": [
    "import requests\n",
    "import json"
   ]
  },
  {
   "cell_type": "code",
   "execution_count": 2,
   "id": "68836c45-a5f8-4b1c-87a3-768e44f860d9",
   "metadata": {},
   "outputs": [],
   "source": [
    "# ID of flow\n",
    "flow = \"default\"\n",
    "base_url = \"http://localhost:8088\""
   ]
  },
  {
   "cell_type": "code",
   "execution_count": 3,
   "id": "523f2f59-6fbe-44cb-8a03-2f3d78bbc8d0",
   "metadata": {},
   "outputs": [],
   "source": [
    "# URL of the TrustGraph GraphRAG query API\n",
    "url = f\"{base_url}/api/v1/flow/{flow}/service/graph-rag\""
   ]
  },
  {
   "cell_type": "code",
   "execution_count": 4,
   "id": "786d9a9f-8422-4415-a818-b96571332255",
   "metadata": {},
   "outputs": [],
   "source": [
    "# The input consists of a question\n",
    "input = {\n",
    "    \"query\": \"Give me 10 facts\",\n",
    "}"
   ]
  },
  {
   "cell_type": "code",
   "execution_count": 5,
   "id": "cad74770-38e0-4263-90d3-60d4ef160497",
   "metadata": {},
   "outputs": [],
   "source": [
    "# Invoke the API, input is passed as JSON\n",
    "resp = requests.post(url, json=input)"
   ]
  },
  {
   "cell_type": "code",
   "execution_count": 6,
   "id": "048eac62-7d33-46de-b75d-d122b8a3a6fe",
   "metadata": {},
   "outputs": [
    {
     "data": {
      "text/plain": [
       "200"
      ]
     },
     "execution_count": 6,
     "metadata": {},
     "output_type": "execute_result"
    }
   ],
   "source": [
    "# Should be a 200 status code\n",
    "resp.status_code"
   ]
  },
  {
   "cell_type": "code",
   "execution_count": 7,
   "id": "0a2ae8fa-94ac-4d72-9a81-0509f645dc4a",
   "metadata": {},
   "outputs": [],
   "source": [
    "# Parse the response as JSON\n",
    "object = resp.json()"
   ]
  },
  {
   "cell_type": "code",
   "execution_count": 8,
   "id": "c77399ab-ee1e-4410-b1a4-1dc7141e2dd2",
   "metadata": {},
   "outputs": [
    {
     "name": "stdout",
     "output_type": "stream",
     "text": [
      "1. Martin Cioffoletti is the vice president of Space Transportation Systems Division.\n",
      "2. Thiokol dropped the face seal design.\n",
      "3. The Space Shuttle is a principal component.\n",
      "4. The Manager is OF Morton Thiokol Launch Support Services.\n",
      "5. Brian Russel is at Thiokol.\n",
      "6. The Space Shuttle is a three-element system.\n",
      "7. The External Tank was examined by the COMMISSION.\n",
      "8. The External Tank contains liquid hydrogen.\n",
      "9. Thiokol had no reason to suspect.\n",
      "10. Analysis indicates .090 inches.\n"
     ]
    }
   ],
   "source": [
    "# The response\n",
    "print(object[\"response\"])"
   ]
  },
  {
   "cell_type": "code",
   "execution_count": null,
   "id": "234b03df-da21-4289-be0c-40000a44249a",
   "metadata": {},
   "outputs": [],
   "source": []
  }
 ],
 "metadata": {
  "kernelspec": {
   "display_name": "Python 3 (ipykernel)",
   "language": "python",
   "name": "python3"
  },
  "language_info": {
   "codemirror_mode": {
    "name": "ipython",
    "version": 3
   },
   "file_extension": ".py",
   "mimetype": "text/x-python",
   "name": "python",
   "nbconvert_exporter": "python",
   "pygments_lexer": "ipython3",
   "version": "3.13.3"
  }
 },
 "nbformat": 4,
 "nbformat_minor": 5
}
