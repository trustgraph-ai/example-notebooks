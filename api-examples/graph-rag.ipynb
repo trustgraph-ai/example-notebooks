{
 "cells": [
  {
   "cell_type": "code",
   "execution_count": 11,
   "id": "cf1909b0-26a1-432a-9567-e0e053855c0c",
   "metadata": {},
   "outputs": [],
   "source": [
    "import requests\n",
    "import json"
   ]
  },
  {
   "cell_type": "code",
   "execution_count": 18,
   "id": "523f2f59-6fbe-44cb-8a03-2f3d78bbc8d0",
   "metadata": {},
   "outputs": [],
   "source": [
    "url = \"http://localhost:8088/api/v1/graph-rag\""
   ]
  },
  {
   "cell_type": "code",
   "execution_count": 24,
   "id": "786d9a9f-8422-4415-a818-b96571332255",
   "metadata": {},
   "outputs": [],
   "source": [
    "input = {\n",
    "    \"query\": \"Give me 10 facts\",\n",
    "}"
   ]
  },
  {
   "cell_type": "code",
   "execution_count": 25,
   "id": "cad74770-38e0-4263-90d3-60d4ef160497",
   "metadata": {},
   "outputs": [],
   "source": [
    "resp = requests.post(url, json=input)"
   ]
  },
  {
   "cell_type": "code",
   "execution_count": 26,
   "id": "048eac62-7d33-46de-b75d-d122b8a3a6fe",
   "metadata": {},
   "outputs": [
    {
     "data": {
      "text/plain": [
       "200"
      ]
     },
     "execution_count": 26,
     "metadata": {},
     "output_type": "execute_result"
    }
   ],
   "source": [
    "resp.status_code"
   ]
  },
  {
   "cell_type": "code",
   "execution_count": 27,
   "id": "0a2ae8fa-94ac-4d72-9a81-0509f645dc4a",
   "metadata": {},
   "outputs": [],
   "source": [
    "object = resp.json()"
   ]
  },
  {
   "cell_type": "code",
   "execution_count": 29,
   "id": "c77399ab-ee1e-4410-b1a4-1dc7141e2dd2",
   "metadata": {},
   "outputs": [
    {
     "data": {
      "text/plain": [
       "'Here are 10 facts from the provided knowledge statements:\\n\\n1. Arnold Aldrich appeared before the Commission.\\n2. The Commission was concerned about three aspects of the ice-on-the-pad issue.\\n3. NASA appeared to be requiring a contractor to prove that it was not safe to launch.\\n4. Joleen A B Bottalico and Marilyn Stumpf were involved in Travel Coordination for NASA.\\n5. Earlier meetings involved aspiration work and ricochet work.\\n6. The Crew reported ice.\\n7. Payload specialists were assigned by NASA.\\n8. Thiokol made a recommendation not to launch.\\n9. The Commission reviewed deviations.\\n10. Preliminary results indicated the test chamber needed to be redesigned.\\n'"
      ]
     },
     "execution_count": 29,
     "metadata": {},
     "output_type": "execute_result"
    }
   ],
   "source": [
    "object[\"response\"]"
   ]
  },
  {
   "cell_type": "code",
   "execution_count": null,
   "id": "234b03df-da21-4289-be0c-40000a44249a",
   "metadata": {},
   "outputs": [],
   "source": []
  }
 ],
 "metadata": {
  "kernelspec": {
   "display_name": "Python 3 (ipykernel)",
   "language": "python",
   "name": "python3"
  },
  "language_info": {
   "codemirror_mode": {
    "name": "ipython",
    "version": 3
   },
   "file_extension": ".py",
   "mimetype": "text/x-python",
   "name": "python",
   "nbconvert_exporter": "python",
   "pygments_lexer": "ipython3",
   "version": "3.13.0"
  }
 },
 "nbformat": 4,
 "nbformat_minor": 5
}
