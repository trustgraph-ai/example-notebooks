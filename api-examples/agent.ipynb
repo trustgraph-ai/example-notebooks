{
 "cells": [
  {
   "cell_type": "code",
   "execution_count": 1,
   "id": "cf1909b0-26a1-432a-9567-e0e053855c0c",
   "metadata": {},
   "outputs": [],
   "source": [
    "import requests\n",
    "import json"
   ]
  },
  {
   "cell_type": "code",
   "execution_count": 2,
   "id": "e3198f2d-1f32-48ed-8352-9ac4de819577",
   "metadata": {},
   "outputs": [],
   "source": [
    "url = \"http://localhost:8088/api/v1/agent\""
   ]
  },
  {
   "cell_type": "code",
   "execution_count": 3,
   "id": "db3fc683-902a-4225-90b4-f4b6ac33a237",
   "metadata": {},
   "outputs": [],
   "source": [
    "input = {\n",
    "    \"question\": \"What is the highest risk aspect of running a space shuttle program?  Provide 5 detailed reasons to justify our answer.\",\n",
    "}"
   ]
  },
  {
   "cell_type": "code",
   "execution_count": 4,
   "id": "c8390dcb-607c-46b3-b0bb-d8f9fd818400",
   "metadata": {},
   "outputs": [],
   "source": [
    "resp = requests.post(url, json=input)"
   ]
  },
  {
   "cell_type": "code",
   "execution_count": 5,
   "id": "4148bf54-07e4-4e26-8197-9f082f8fe11b",
   "metadata": {},
   "outputs": [
    {
     "name": "stdout",
     "output_type": "stream",
     "text": [
      "200\n"
     ]
    }
   ],
   "source": [
    "print(resp.status_code)"
   ]
  },
  {
   "cell_type": "code",
   "execution_count": 6,
   "id": "b99f3bef-00e6-4bdf-ac7d-52cceb60ae29",
   "metadata": {},
   "outputs": [],
   "source": [
    "object = resp.json()"
   ]
  },
  {
   "cell_type": "code",
   "execution_count": 7,
   "id": "f22c39ab-ee57-42b4-b278-ea35dd72bf22",
   "metadata": {},
   "outputs": [
    {
     "name": "stdout",
     "output_type": "stream",
     "text": [
      "The highest risk aspect of running a space shuttle program is the complex interplay of technological, managerial, and organizational factors that can lead to catastrophic failures, even when individual components appear sound.  Five detailed reasons justifying this are:\n",
      "\n",
      "1. **Faulty Design and Manufacturing:** The Challenger disaster demonstrated the devastating consequences of design flaws and manufacturing defects.  The O-rings in the solid rocket boosters were identified as a critical failure point, highlighting the need for rigorous design reviews, thorough testing, and robust quality control throughout the entire manufacturing process.  A single point of failure can have catastrophic consequences.\n",
      "\n",
      "2. **Inadequate Risk Assessment and Management:** The decision to launch Challenger despite concerns about the O-rings' performance in cold weather demonstrated a failure in risk assessment and management.  The pressure to maintain launch schedules, coupled with inadequate communication and a flawed decision-making process, led to the acceptance of unacceptable risks.\n",
      "\n",
      "3. **Communication and Information Sharing Breakdowns:**  The investigation revealed significant communication breakdowns between engineers, management, and NASA.  Engineers' concerns were not effectively communicated, and critical information was not adequately shared with decision-makers.  This lack of transparency and open communication created a dangerous environment where risks were underestimated and ignored.\n",
      "\n",
      "4. **Organizational Culture and Pressure:** The Challenger disaster exposed a culture that prioritized launch schedules over safety.  Pressure to meet deadlines and maintain a positive public image led to a willingness to accept risks that should have been mitigated.  This organizational culture created an environment where dissenting opinions were suppressed and safety concerns were downplayed.\n",
      "\n",
      "5. **Complex System Interactions:** The Space Shuttle was an incredibly complex system with numerous interacting components.  Understanding and managing the risks associated with these interactions is extremely challenging.  A failure in one component can have cascading effects throughout the entire system, leading to catastrophic consequences.  The Challenger disaster highlighted the difficulty of managing risks in such a complex system.\n"
     ]
    }
   ],
   "source": [
    "print(object[\"answer\"])"
   ]
  },
  {
   "cell_type": "code",
   "execution_count": null,
   "id": "431007ff-ee98-4440-a265-b26c9b6d6c26",
   "metadata": {},
   "outputs": [],
   "source": []
  }
 ],
 "metadata": {
  "kernelspec": {
   "display_name": "Python 3 (ipykernel)",
   "language": "python",
   "name": "python3"
  },
  "language_info": {
   "codemirror_mode": {
    "name": "ipython",
    "version": 3
   },
   "file_extension": ".py",
   "mimetype": "text/x-python",
   "name": "python",
   "nbconvert_exporter": "python",
   "pygments_lexer": "ipython3",
   "version": "3.13.0"
  }
 },
 "nbformat": 4,
 "nbformat_minor": 5
}
