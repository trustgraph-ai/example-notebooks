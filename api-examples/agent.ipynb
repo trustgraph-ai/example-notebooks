{
 "cells": [
  {
   "cell_type": "code",
   "execution_count": 1,
   "id": "cf1909b0-26a1-432a-9567-e0e053855c0c",
   "metadata": {},
   "outputs": [],
   "source": [
    "import requests\n",
    "import json"
   ]
  },
  {
   "cell_type": "code",
   "execution_count": 2,
   "id": "e3198f2d-1f32-48ed-8352-9ac4de819577",
   "metadata": {},
   "outputs": [],
   "source": [
    "url = \"http://localhost:8088/api/v1/agent\""
   ]
  },
  {
   "cell_type": "code",
   "execution_count": 3,
   "id": "db3fc683-902a-4225-90b4-f4b6ac33a237",
   "metadata": {},
   "outputs": [],
   "source": [
    "input = {\n",
    "    \"question\": \"What is the highest risk aspect of running a space shuttle program?  Provide 5 detailed reasons to justify our answer.\",\n",
    "}"
   ]
  },
  {
   "cell_type": "code",
   "execution_count": 4,
   "id": "c8390dcb-607c-46b3-b0bb-d8f9fd818400",
   "metadata": {},
   "outputs": [],
   "source": [
    "resp = requests.post(url, json=input)"
   ]
  },
  {
   "cell_type": "code",
   "execution_count": 5,
   "id": "4148bf54-07e4-4e26-8197-9f082f8fe11b",
   "metadata": {},
   "outputs": [
    {
     "data": {
      "text/plain": [
       "200"
      ]
     },
     "execution_count": 5,
     "metadata": {},
     "output_type": "execute_result"
    }
   ],
   "source": [
    "resp.status_code"
   ]
  },
  {
   "cell_type": "code",
   "execution_count": 6,
   "id": "b99f3bef-00e6-4bdf-ac7d-52cceb60ae29",
   "metadata": {},
   "outputs": [],
   "source": [
    "object = resp.json()"
   ]
  },
  {
   "cell_type": "code",
   "execution_count": 7,
   "id": "f22c39ab-ee57-42b4-b278-ea35dd72bf22",
   "metadata": {},
   "outputs": [
    {
     "name": "stdout",
     "output_type": "stream",
     "text": [
      "The highest risk aspect of running a space shuttle program is the complex interplay of technical risks, organizational factors, and pressure to maintain schedules and budgets. This can lead to flawed decision-making processes that prioritize expediency over safety.  Five detailed reasons justifying this are:\n",
      "\n",
      "1. **Faulty Design Sensitivity:** The Challenger disaster demonstrated the critical risk posed by designs that are unacceptably sensitive to environmental factors (like cold temperatures) and operational variations.  A seemingly minor design flaw, exacerbated by external conditions, can lead to catastrophic failure.\n",
      "\n",
      "2. **Flawed Decision-Making Processes:** The investigation revealed a flawed decision-making process where pressure from NASA and a desire to meet launch schedules overrode the concerns of engineers. This prioritization of external pressures over safety assessments is a major risk.\n",
      "\n",
      "3. **Communication Breakdown and Information Withholding:**  The incident highlighted a breakdown in communication between engineers, management, and NASA.  The withholding of critical information and the lack of transparency significantly increased the risk of a catastrophic event.\n",
      "\n",
      "4. **Inadequate Risk Assessment and Management:**  The risk assessment and management processes were clearly inadequate.  The potential impact of cold weather on the O-rings was not fully understood or appropriately addressed, demonstrating a failure to adequately assess and mitigate known risks.\n",
      "\n",
      "5. **Organizational Culture and Pressure:** The organizational culture at both NASA and Thiokol contributed to the risk.  The pressure to maintain schedules and budgets created an environment where safety concerns were potentially downplayed or ignored.  This points to the systemic risk inherent in a high-pressure, high-stakes environment.\n"
     ]
    }
   ],
   "source": [
    "print(object[\"answer\"])"
   ]
  },
  {
   "cell_type": "code",
   "execution_count": null,
   "id": "431007ff-ee98-4440-a265-b26c9b6d6c26",
   "metadata": {},
   "outputs": [],
   "source": []
  }
 ],
 "metadata": {
  "kernelspec": {
   "display_name": "Python 3 (ipykernel)",
   "language": "python",
   "name": "python3"
  },
  "language_info": {
   "codemirror_mode": {
    "name": "ipython",
    "version": 3
   },
   "file_extension": ".py",
   "mimetype": "text/x-python",
   "name": "python",
   "nbconvert_exporter": "python",
   "pygments_lexer": "ipython3",
   "version": "3.13.0"
  }
 },
 "nbformat": 4,
 "nbformat_minor": 5
}
