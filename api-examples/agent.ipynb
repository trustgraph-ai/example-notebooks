{
 "cells": [
  {
   "cell_type": "markdown",
   "id": "0d03b277-65f0-47e9-b3f6-36a0f2b4bf1c",
   "metadata": {},
   "source": [
    "# Agent API visualization\n",
    "\n",
    "This notebook demonstrates the use of the TrustGraph agent API to reason using information in the knowledge graph.\n",
    "\n",
    "This notebook was executed against a running TrustGraph loaded with the space shuttle challenger report from NASA located here:\n",
    "\n",
    "https://ntrs.nasa.gov/citations/19860015255\n",
    "\n",
    "## Tool configuration\n",
    "\n",
    "The agent tooling was configured:\n",
    "\n",
    "| tool | mode | description |\n",
    "| --- | --- | --- |\n",
    "| knowledge-query | knowledge-query | Query the knowledge base for additional information about the space shuttle Challenger disaster. |\n",
    "| risk-analysis | text-completion | erform a risk analysis using the likelihood and severity of a possible event. Describe the factors contributing to the likelihood and severity of the event along with possible outcomes. |\n",
    "| risk-report | text-completion | Write a report using a risk analysis for a possible event. The audience for the report are executive decision makers. |\n"
   ]
  },
  {
   "cell_type": "code",
   "execution_count": 1,
   "id": "cf1909b0-26a1-432a-9567-e0e053855c0c",
   "metadata": {},
   "outputs": [],
   "source": [
    "import requests\n",
    "import json"
   ]
  },
  {
   "cell_type": "code",
   "execution_count": 2,
   "id": "e3198f2d-1f32-48ed-8352-9ac4de819577",
   "metadata": {},
   "outputs": [],
   "source": [
    "# URL of the TrustGraph triplestore query API\n",
    "url = \"http://localhost:8088/api/v1/agent\""
   ]
  },
  {
   "cell_type": "code",
   "execution_count": 3,
   "id": "db3fc683-902a-4225-90b4-f4b6ac33a237",
   "metadata": {},
   "outputs": [],
   "source": [
    "# The input consists of just a question\n",
    "input = {\n",
    "    \"question\": \"What is the highest risk aspect of running a space shuttle program?  Provide 5 detailed reasons to justify our answer.\",\n",
    "}"
   ]
  },
  {
   "cell_type": "code",
   "execution_count": 4,
   "id": "c8390dcb-607c-46b3-b0bb-d8f9fd818400",
   "metadata": {},
   "outputs": [],
   "source": [
    "# Invoke the API, input is passed as JSON\n",
    "resp = requests.post(url, json=input)"
   ]
  },
  {
   "cell_type": "code",
   "execution_count": 5,
   "id": "4148bf54-07e4-4e26-8197-9f082f8fe11b",
   "metadata": {},
   "outputs": [
    {
     "data": {
      "text/plain": [
       "200"
      ]
     },
     "execution_count": 5,
     "metadata": {},
     "output_type": "execute_result"
    }
   ],
   "source": [
    "# Should be a 200 status code\n",
    "resp.status_code"
   ]
  },
  {
   "cell_type": "code",
   "execution_count": 6,
   "id": "b99f3bef-00e6-4bdf-ac7d-52cceb60ae29",
   "metadata": {},
   "outputs": [],
   "source": [
    "# Parse the response as JSON\n",
    "object = resp.json()"
   ]
  },
  {
   "cell_type": "code",
   "execution_count": 7,
   "id": "f22c39ab-ee57-42b4-b278-ea35dd72bf22",
   "metadata": {},
   "outputs": [
    {
     "name": "stdout",
     "output_type": "stream",
     "text": [
      "The highest risk aspect of running a space shuttle program is flawed decision-making and inadequate risk assessment processes.  Five detailed reasons to justify this are:\n",
      "\n",
      "1. **Faulty Design and Inadequate Testing:** The Challenger disaster highlighted a critical flaw in the design of the solid rocket booster O-rings.  Inadequate testing and a failure to fully understand the O-ring's behavior at low temperatures contributed significantly to the disaster.  This points to a systemic failure in design review and testing protocols, indicating a lack of rigorous risk assessment.\n",
      "\n",
      "2. **Ignoring Warnings and Expert Opinions:**  Engineers raised concerns about the O-rings' performance at low temperatures, but these warnings were largely ignored by management.  The pressure to maintain the launch schedule overrode sound engineering judgment, demonstrating a failure to prioritize safety over operational goals. This highlights a critical flaw in risk management – the disregard of expert opinions.\n",
      "\n",
      "3. **Pressure to Meet Schedules and Political Influences:**  The intense pressure to maintain a rapid launch schedule, coupled with political influences, created an environment where safety concerns were downplayed.  This created a culture that prioritized expediency over safety, a major risk factor in any complex technological endeavor.\n",
      "\n",
      "4. **Poor Communication and Information Sharing:**  There was a breakdown in communication between engineers, management, and NASA officials.  Critical information about the O-ring problems was not effectively communicated or acted upon, leading to a cascade of poor decisions.  Effective communication and information sharing are essential for sound risk management.\n",
      "\n",
      "5. **Lack of a Robust Risk Management Culture:**  The Challenger disaster revealed a lack of a robust and independent risk management culture within NASA and its contractors.  The decision-making process was flawed, lacking a systematic approach to identifying, assessing, and mitigating risks.  A strong safety culture, with independent oversight and a commitment to transparency, is crucial for mitigating risks in high-stakes operations like space shuttle programs.\n"
     ]
    }
   ],
   "source": [
    "# The response contains an answer field containing the answer\n",
    "print(object[\"answer\"])"
   ]
  },
  {
   "cell_type": "code",
   "execution_count": null,
   "id": "431007ff-ee98-4440-a265-b26c9b6d6c26",
   "metadata": {},
   "outputs": [],
   "source": []
  }
 ],
 "metadata": {
  "kernelspec": {
   "display_name": "Python 3 (ipykernel)",
   "language": "python",
   "name": "python3"
  },
  "language_info": {
   "codemirror_mode": {
    "name": "ipython",
    "version": 3
   },
   "file_extension": ".py",
   "mimetype": "text/x-python",
   "name": "python",
   "nbconvert_exporter": "python",
   "pygments_lexer": "ipython3",
   "version": "3.13.0"
  }
 },
 "nbformat": 4,
 "nbformat_minor": 5
}
