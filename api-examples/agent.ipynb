{
 "cells": [
  {
   "cell_type": "markdown",
   "id": "0d03b277-65f0-47e9-b3f6-36a0f2b4bf1c",
   "metadata": {},
   "source": [
    "# Agent API\n",
    "\n",
    "This notebook demonstrates the use of the TrustGraph agent API to reason using information in the knowledge graph.\n",
    "\n",
    "This notebook was executed against a running TrustGraph loaded with the space shuttle challenger report from NASA located here:\n",
    "\n",
    "https://ntrs.nasa.gov/citations/19860015255\n",
    "\n",
    "## Tool configuration\n",
    "\n",
    "The agent tooling was configured:\n",
    "\n",
    "| tool | mode | description |\n",
    "| --- | --- | --- |\n",
    "| knowledge-query | knowledge-query | Query the knowledge base for additional information about the space shuttle Challenger disaster. |\n",
    "| risk-analysis | text-completion | erform a risk analysis using the likelihood and severity of a possible event. Describe the factors contributing to the likelihood and severity of the event along with possible outcomes. |\n",
    "| risk-report | text-completion | Write a report using a risk analysis for a possible event. The audience for the report are executive decision makers. |\n"
   ]
  },
  {
   "cell_type": "code",
   "execution_count": 1,
   "id": "cf1909b0-26a1-432a-9567-e0e053855c0c",
   "metadata": {},
   "outputs": [],
   "source": [
    "import requests\n",
    "import json"
   ]
  },
  {
   "cell_type": "code",
   "execution_count": 2,
   "id": "e3198f2d-1f32-48ed-8352-9ac4de819577",
   "metadata": {},
   "outputs": [],
   "source": [
    "# URL of the TrustGraph agent API\n",
    "url = \"http://localhost:8088/api/v1/agent\""
   ]
  },
  {
   "cell_type": "code",
   "execution_count": 3,
   "id": "db3fc683-902a-4225-90b4-f4b6ac33a237",
   "metadata": {},
   "outputs": [],
   "source": [
    "# The input consists of just a question\n",
    "input = {\n",
    "    \"question\": \"What is the highest risk aspect of running a space shuttle program?  Provide 5 detailed reasons to justify our answer.\",\n",
    "}"
   ]
  },
  {
   "cell_type": "code",
   "execution_count": 4,
   "id": "c8390dcb-607c-46b3-b0bb-d8f9fd818400",
   "metadata": {},
   "outputs": [],
   "source": [
    "# Invoke the API, input is passed as JSON\n",
    "resp = requests.post(url, json=input)"
   ]
  },
  {
   "cell_type": "code",
   "execution_count": 5,
   "id": "4148bf54-07e4-4e26-8197-9f082f8fe11b",
   "metadata": {},
   "outputs": [
    {
     "data": {
      "text/plain": [
       "200"
      ]
     },
     "execution_count": 5,
     "metadata": {},
     "output_type": "execute_result"
    }
   ],
   "source": [
    "# Should be a 200 status code\n",
    "resp.status_code"
   ]
  },
  {
   "cell_type": "code",
   "execution_count": 6,
   "id": "b99f3bef-00e6-4bdf-ac7d-52cceb60ae29",
   "metadata": {},
   "outputs": [],
   "source": [
    "# Parse the response as JSON\n",
    "object = resp.json()"
   ]
  },
  {
   "cell_type": "code",
   "execution_count": 7,
   "id": "f22c39ab-ee57-42b4-b278-ea35dd72bf22",
   "metadata": {},
   "outputs": [
    {
     "name": "stdout",
     "output_type": "stream",
     "text": [
      "The highest risk aspect of running a space shuttle program is the failure of critical components due to design flaws and inadequate risk assessment. This is supported by the following five detailed reasons, drawing heavily from the Challenger disaster:\n",
      "\n",
      "1. **Faulty Design Sensitivity:** The Challenger disaster highlighted the danger of designs that are unacceptably sensitive to environmental factors (like temperature).  The O-rings' failure was directly linked to the unusually cold temperature, demonstrating the critical need for designs robust enough to withstand a range of operating conditions.  Inadequate testing and analysis of the O-rings under cold conditions contributed to the disaster.\n",
      "\n",
      "2. **Inadequate Risk Assessment and Communication:**  The decision to launch despite warnings about the O-rings' performance at low temperatures demonstrates a failure in risk assessment and communication.  Internal warnings were not adequately addressed, and the risks were not properly communicated to all relevant decision-makers, including the crew.  This highlights the importance of robust risk management processes and transparent communication channels.\n",
      "\n",
      "3. **Insufficient Testing and Verification:**  The insufficient testing of the O-rings under cold conditions exposed a critical gap in the verification and validation process.  Comprehensive testing under all anticipated operating conditions is essential to identify and mitigate potential failures before launch.\n",
      "\n",
      "4. **Organizational Culture and Decision-Making:** The Challenger disaster revealed a problematic organizational culture that prioritized launch schedules over safety concerns.  Pressure to maintain the launch schedule led to the acceptance of unacceptable risks.  A safety-conscious culture that prioritizes thorough risk assessment and mitigation over schedule adherence is crucial.\n",
      "\n",
      "5. **Component Reliability and Redundancy:** The catastrophic failure of a single component (the O-ring) resulted in the loss of the entire shuttle.  The lack of sufficient redundancy in critical systems amplifies the risk of catastrophic failure.  Designing systems with multiple layers of redundancy and fail-safes is essential to mitigate the impact of component failures.\n"
     ]
    }
   ],
   "source": [
    "# The response contains an answer field containing the answer\n",
    "print(object[\"answer\"])"
   ]
  },
  {
   "cell_type": "code",
   "execution_count": null,
   "id": "431007ff-ee98-4440-a265-b26c9b6d6c26",
   "metadata": {},
   "outputs": [],
   "source": []
  }
 ],
 "metadata": {
  "kernelspec": {
   "display_name": "Python 3 (ipykernel)",
   "language": "python",
   "name": "python3"
  },
  "language_info": {
   "codemirror_mode": {
    "name": "ipython",
    "version": 3
   },
   "file_extension": ".py",
   "mimetype": "text/x-python",
   "name": "python",
   "nbconvert_exporter": "python",
   "pygments_lexer": "ipython3",
   "version": "3.13.0"
  }
 },
 "nbformat": 4,
 "nbformat_minor": 5
}
