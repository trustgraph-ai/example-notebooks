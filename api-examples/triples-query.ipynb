{
 "cells": [
  {
   "cell_type": "code",
   "execution_count": 1,
   "id": "cf1909b0-26a1-432a-9567-e0e053855c0c",
   "metadata": {},
   "outputs": [],
   "source": [
    "import requests\n",
    "import json"
   ]
  },
  {
   "cell_type": "code",
   "execution_count": 2,
   "id": "9ad91b0c-8311-4da1-ad12-7e7bf204976b",
   "metadata": {},
   "outputs": [],
   "source": [
    "url = \"http://localhost:8088/api/v1/triples-query\""
   ]
  },
  {
   "cell_type": "code",
   "execution_count": 3,
   "id": "bebfec2e-8a39-4327-9d0f-d1a4724c671c",
   "metadata": {},
   "outputs": [],
   "source": [
    "input = {\n",
    "    \"p\": \"http://www.w3.org/2000/01/rdf-schema#label\",\n",
    "    \"limit\": 10\n",
    "}"
   ]
  },
  {
   "cell_type": "code",
   "execution_count": 4,
   "id": "11d140a1-51c2-4cf1-851f-2189837739a2",
   "metadata": {},
   "outputs": [],
   "source": [
    "resp = requests.post(url, json=input)"
   ]
  },
  {
   "cell_type": "code",
   "execution_count": 5,
   "id": "e460d88c-c6d2-455b-92ce-ce489298da1f",
   "metadata": {},
   "outputs": [
    {
     "name": "stdout",
     "output_type": "stream",
     "text": [
      "200\n"
     ]
    }
   ],
   "source": [
    "print(resp.status_code)"
   ]
  },
  {
   "cell_type": "code",
   "execution_count": 6,
   "id": "6d7ce863-74b5-40a1-b97b-dcc555335a1a",
   "metadata": {},
   "outputs": [],
   "source": [
    "object = resp.json()"
   ]
  },
  {
   "cell_type": "code",
   "execution_count": 7,
   "id": "4adedc75-bfa5-4612-bf58-f8b8045a0f0c",
   "metadata": {},
   "outputs": [],
   "source": [
    "def for_display(n):\n",
    "    v = n[\"v\"]\n",
    "    if n[\"e\"]:\n",
    "        return f\"<{v}>\"\n",
    "    else:\n",
    "        return f'\"{v}\"'"
   ]
  },
  {
   "cell_type": "code",
   "execution_count": 8,
   "id": "82ef1573-a48a-4e7c-b4fa-1216cc8993f6",
   "metadata": {},
   "outputs": [
    {
     "name": "stdout",
     "output_type": "stream",
     "text": [
      "<http://trustgraph.ai/e/gap-dimensions> <http://www.w3.org/2000/01/rdf-schema#label> \"gap dimensions\"\n",
      "<http://trustgraph.ai/e/oxidizer-and-fuel-from-the-propellant-tanks-to-the-orbiter> <http://www.w3.org/2000/01/rdf-schema#label> \"oxidizer and fuel from the propellant tanks to the Orbiter\"\n",
      "<http://trustgraph.ai/e/to-the-equipment-support-structure-carrier> <http://www.w3.org/2000/01/rdf-schema#label> \"to the equipment support structure carrier\"\n",
      "<http://trustgraph.ai/e/exonerated> <http://www.w3.org/2000/01/rdf-schema#label> \"exonerated\"\n",
      "<http://trustgraph.ai/e/have-contact-with> <http://www.w3.org/2000/01/rdf-schema#label> \"have contact with\"\n",
      "<http://trustgraph.ai/e/flight-15> <http://www.w3.org/2000/01/rdf-schema#label> \"Flight 15\"\n",
      "<http://trustgraph.ai/e/composite-view> <http://www.w3.org/2000/01/rdf-schema#label> \"composite view\"\n",
      "<http://trustgraph.ai/e/challenger%27s-liquid-fueled-main-engines> <http://www.w3.org/2000/01/rdf-schema#label> \"Challenger's liquid fueled main engines\"\n",
      "<http://trustgraph.ai/e/possibilities> <http://www.w3.org/2000/01/rdf-schema#label> \"possibilities\"\n",
      "<http://trustgraph.ai/e/was-damaged-when-it-impacted-with> <http://www.w3.org/2000/01/rdf-schema#label> \"was damaged when it impacted with\"\n"
     ]
    }
   ],
   "source": [
    "for t in object[\"response\"]:\n",
    "    print(\n",
    "        for_display(t[\"s\"]),\n",
    "        for_display(t[\"p\"]),\n",
    "        for_display(t[\"o\"])\n",
    "    )"
   ]
  },
  {
   "cell_type": "code",
   "execution_count": null,
   "id": "b66f6bf7-150c-499e-aa40-6a251f92c1c3",
   "metadata": {},
   "outputs": [],
   "source": []
  }
 ],
 "metadata": {
  "kernelspec": {
   "display_name": "Python 3 (ipykernel)",
   "language": "python",
   "name": "python3"
  },
  "language_info": {
   "codemirror_mode": {
    "name": "ipython",
    "version": 3
   },
   "file_extension": ".py",
   "mimetype": "text/x-python",
   "name": "python",
   "nbconvert_exporter": "python",
   "pygments_lexer": "ipython3",
   "version": "3.13.0"
  }
 },
 "nbformat": 4,
 "nbformat_minor": 5
}
