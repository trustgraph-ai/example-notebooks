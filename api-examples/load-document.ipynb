{
 "cells": [
  {
   "cell_type": "markdown",
   "id": "450697a3-1903-4c5b-b52e-74334bf75af6",
   "metadata": {},
   "source": [
    "# Loading a document\n",
    "\n",
    "This notebook demonstrates the use of the TrustGraph triple document load API to submit a document for processing.\n",
    "\n",
    "The Document load API optionally allows extra arbitrary metadata to be submitted with the document which is associated with the document and added to the triple store.  In this example, we add metadata in a form structured in line with schema.org Organization, PublicationEvent and Document schemas.\n",
    "\n",
    "The additional metadata is optional, the metadata element can be ignored.  However, if additional metadata is known, it can be integrated with TrustGraph processing."
   ]
  },
  {
   "cell_type": "code",
   "execution_count": 1,
   "id": "cf1909b0-26a1-432a-9567-e0e053855c0c",
   "metadata": {},
   "outputs": [],
   "source": [
    "import requests\n",
    "import json\n",
    "import base64"
   ]
  },
  {
   "cell_type": "code",
   "execution_count": 2,
   "id": "4dd99f46-daa7-4866-8beb-a47450c717ad",
   "metadata": {},
   "outputs": [],
   "source": [
    "# Open a PDF document from this repo.  PDFs are binary blobs\n",
    "blob = open(\"../sources/Challenger-Report-Vol1.pdf\", \"rb\").read()"
   ]
  },
  {
   "cell_type": "code",
   "execution_count": 3,
   "id": "e3198f2d-1f32-48ed-8352-9ac4de819577",
   "metadata": {},
   "outputs": [],
   "source": [
    "# URL of the TrustGraph triplestore query API\n",
    "url = \"http://localhost:8088/api/v1/load/document\""
   ]
  },
  {
   "cell_type": "code",
   "execution_count": 4,
   "id": "afc8b49e-3993-4f93-983c-8abb007db096",
   "metadata": {},
   "outputs": [],
   "source": [
    "# Some random identifiers.  The doc ID is important, as extracted knowledge is linked back to this identifier\n",
    "org_id = \"https://trustgraph.ai/org/1dd51ece-8bd3-48b8-98ce-1ac9164c5214\"\n",
    "doc_id = \"https://trustgraph.ai/doc/72ef3374-af7a-40c4-8c7b-45050aef5b90\"\n",
    "pub_id = \"https://trustgraph.ai/pubev/59012ae1-65d4-441f-8288-b6f3c6c15333\""
   ]
  },
  {
   "cell_type": "code",
   "execution_count": 5,
   "id": "c931d413-5f7c-4b0e-b029-fce5ed168a6f",
   "metadata": {},
   "outputs": [],
   "source": [
    "# Organization metadata\n",
    "org_facts = [\n",
    "    [org_id, \"http://www.w3.org/1999/02/22-rdf-syntax-ns#type\", \"https://schema.org/Organization\"],\n",
    "    [org_id, \"http://www.w3.org/2000/01/rdf-schema#label\", \"NASA\"],\n",
    "    [org_id, \"https://schema.org/name\", \"NASA\"]\n",
    "]"
   ]
  },
  {
   "cell_type": "code",
   "execution_count": 6,
   "id": "6443224e-0bb1-4044-818c-9fe6a81a5143",
   "metadata": {},
   "outputs": [],
   "source": [
    "# Puublication metadata.  Note how it links to the Organization\n",
    "pub_facts = [\n",
    "    [pub_id, \"http://www.w3.org/1999/02/22-rdf-syntax-ns#type\", \"https://schema.org/PublicationEvent\"],\n",
    "    [pub_id, \"https://schema.org/description\", \"Uploading to Github\"],\n",
    "    [pub_id, \"https://schema.org/endDate\", \"1986-06-06\"],\n",
    "    [pub_id, \"https://schema.org/publishedBy\", org_id],\n",
    "    [pub_id, \"https://schema.org/startDate\", \"1986-06-06\"]\n",
    "]"
   ]
  },
  {
   "cell_type": "code",
   "execution_count": 7,
   "id": "0bb89b9e-cd99-4220-92f8-1c43c98d45b9",
   "metadata": {},
   "outputs": [],
   "source": [
    "# Document metadata.  Note how it links to the publication event\n",
    "doc_facts = [\n",
    "    [doc_id, \"http://www.w3.org/1999/02/22-rdf-syntax-ns#type\", \"https://schema.org/DigitalDocument\"],\n",
    "    [doc_id, \"http://www.w3.org/2000/01/rdf-schema#label\", \"Challenger Report Volume 1\"],\n",
    "    [doc_id, \"https://schema.org/copyrightHolder\", \"US Government\"],\n",
    "    [doc_id, \"https://schema.org/copyrightNotice\", \"Work of the US Gov. Public Use Permitted\"],\n",
    "    [doc_id, \"https://schema.org/copyrightYear\", \"1986\"],\n",
    "    [doc_id, \"https://schema.org/description\", \"The findings of the Presidential Commission regarding the circumstances surrounding the Challenger accident are reported and recommendations for corrective action are outlined\"],\n",
    "    [doc_id, \"https://schema.org/keywords\", \"nasa\"],\n",
    "    [doc_id, \"https://schema.org/keywords\", \"challenger\"],\n",
    "    [doc_id, \"https://schema.org/keywords\", \"space-shuttle\"],\n",
    "    [doc_id, \"https://schema.org/keywords\", \"shuttle\"],\n",
    "    [doc_id, \"https://schema.org/keywords\", \"orbiter\"],\n",
    "    [doc_id, \"https://schema.org/name\", \"Challenger Report Volume 1\"],\n",
    "    [doc_id, \"https://schema.org/publication\", pub_id],\n",
    "    [doc_id, \"https://schema.org/url\", \"https://ntrs.nasa.gov/citations/19860015255\"]\n",
    "]"
   ]
  },
  {
   "cell_type": "code",
   "execution_count": 8,
   "id": "0737470a-7554-45e1-b6f2-891f74af1316",
   "metadata": {},
   "outputs": [],
   "source": [
    "# Convert the above metadata into the right form\n",
    "metadata = [\n",
    "    {\n",
    "        \"s\": {\n",
    "            \"v\": t[0],\n",
    "            \"e\": True,\n",
    "        },\n",
    "        \"p\": {\n",
    "            \"v\": t[1],\n",
    "            \"e\": True,\n",
    "        },\n",
    "        \"o\": {\n",
    "            \"v\": t[2],\n",
    "            \"e\": t[2].startswith(\"http\")\n",
    "        }\n",
    "    }\n",
    "    for t in org_facts + pub_facts + doc_facts\n",
    "]"
   ]
  },
  {
   "cell_type": "code",
   "execution_count": 9,
   "id": "db3fc683-902a-4225-90b4-f4b6ac33a237",
   "metadata": {},
   "outputs": [],
   "source": [
    "# The input\n",
    "input = {\n",
    "\n",
    "    # Document identifer.  Knowledge derived by TrustGraph is linked to this identifier, so\n",
    "    # the additional metadata specified above is linked to the derived knowledge and users of\n",
    "    # the knowledge graph could see information about the source of knowledge\n",
    "    \"id\": doc_id,\n",
    "\n",
    "    # Additional metadata in the form of RDF triples\n",
    "    \"metadata\": metadata,\n",
    "\n",
    "    # The PDF document, is presented as a base64 encoded document.\n",
    "    \"data\": base64.b64encode(blob).decode(\"utf-8\")\n",
    "\n",
    "}"
   ]
  },
  {
   "cell_type": "code",
   "execution_count": 10,
   "id": "c8390dcb-607c-46b3-b0bb-d8f9fd818400",
   "metadata": {},
   "outputs": [],
   "source": [
    "# Invoke the API, input is passed as JSON\n",
    "resp = requests.post(url, json=input)"
   ]
  },
  {
   "cell_type": "code",
   "execution_count": 11,
   "id": "4148bf54-07e4-4e26-8197-9f082f8fe11b",
   "metadata": {},
   "outputs": [
    {
     "data": {
      "text/plain": [
       "404"
      ]
     },
     "execution_count": 11,
     "metadata": {},
     "output_type": "execute_result"
    }
   ],
   "source": [
    "# Should be a 200 status code\n",
    "resp.status_code"
   ]
  },
  {
   "cell_type": "code",
   "execution_count": 12,
   "id": "431007ff-ee98-4440-a265-b26c9b6d6c26",
   "metadata": {},
   "outputs": [],
   "source": [
    "# The document load returns no response.  A 200 response shows the submitted PDF is queued to enter processing flows"
   ]
  },
  {
   "cell_type": "code",
   "execution_count": null,
   "id": "fe949222-a0c0-4420-8e6b-b39ad02a8992",
   "metadata": {},
   "outputs": [],
   "source": []
  }
 ],
 "metadata": {
  "kernelspec": {
   "display_name": "Python 3 (ipykernel)",
   "language": "python",
   "name": "python3"
  },
  "language_info": {
   "codemirror_mode": {
    "name": "ipython",
    "version": 3
   },
   "file_extension": ".py",
   "mimetype": "text/x-python",
   "name": "python",
   "nbconvert_exporter": "python",
   "pygments_lexer": "ipython3",
   "version": "3.12.10"
  }
 },
 "nbformat": 4,
 "nbformat_minor": 5
}
