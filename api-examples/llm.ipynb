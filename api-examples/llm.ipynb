{
 "cells": [
  {
   "cell_type": "code",
   "execution_count": 1,
   "id": "00d69772-9483-48d4-a039-37eeb89a2530",
   "metadata": {},
   "outputs": [],
   "source": [
    "import requests\n",
    "import json"
   ]
  },
  {
   "cell_type": "code",
   "execution_count": 2,
   "id": "ff90cba7-e65e-4202-b118-7e0bd9f474c6",
   "metadata": {},
   "outputs": [],
   "source": [
    "url = \"http://localhost:8088/api/v1/text-completion\""
   ]
  },
  {
   "cell_type": "code",
   "execution_count": 3,
   "id": "3af40651-094c-4d12-aaab-bdd4d809694c",
   "metadata": {},
   "outputs": [],
   "source": [
    "input = {\n",
    "    \"system\": \"Respond in French.  Use long word, form of numbers, no digits\",\n",
    "    \"prompt\": \"Add 12 and 14, and then make a poem about llamas which incorporates that number.  Then write a joke about llamas\"\n",
    "}"
   ]
  },
  {
   "cell_type": "code",
   "execution_count": 4,
   "id": "5ffe4cad-bcd7-4e56-8728-86b4d6748a98",
   "metadata": {},
   "outputs": [],
   "source": [
    "resp = requests.post(url, json=input)"
   ]
  },
  {
   "cell_type": "code",
   "execution_count": 5,
   "id": "e0809c8f-7466-472f-b520-5d35c6aaa3f2",
   "metadata": {},
   "outputs": [
    {
     "name": "stdout",
     "output_type": "stream",
     "text": [
      "200\n"
     ]
    }
   ],
   "source": [
    "print(resp.status_code)"
   ]
  },
  {
   "cell_type": "code",
   "execution_count": 6,
   "id": "9e8c3b8e-70ca-48e9-95b8-60e72ac971d0",
   "metadata": {},
   "outputs": [],
   "source": [
    "object = resp.json()"
   ]
  },
  {
   "cell_type": "code",
   "execution_count": 7,
   "id": "083870bb-c629-4a06-a257-fd77e2a01af5",
   "metadata": {},
   "outputs": [
    {
     "name": "stdout",
     "output_type": "stream",
     "text": [
      "Douze plus quatorze égale vingt-six.\n",
      "\n",
      "\n",
      "Voici un poème sur les lamas, incorporant le nombre vingt-six:\n",
      "\n",
      "\n",
      "Sur les hauts plateaux, vingt-six lamas paissent,\n",
      "Leurs toisons soyeuses, au soleil se baignent.\n",
      "Des yeux doux et profonds, observant le monde,\n",
      "Avec une grâce sereine, ils se promènent sans encombre.\n",
      "Le vent souffle doucement, à travers leurs longues mèches,\n",
      "Un spectacle enchanteur, qui captive les cœurs et les âmes fraîches.\n",
      "Vingt-six silhouettes brunes, un tableau magnifique,\n",
      "Dans la beauté sauvage, un instant magique.\n",
      "\n",
      "\n",
      "Voici une blague sur les lamas:\n",
      "\n",
      "\n",
      "Pourquoi les lamas sont-ils de mauvais danseurs ?\n",
      "\n",
      "\n",
      "Parce qu'ils ont deux pieds gauches !\n",
      "\n"
     ]
    }
   ],
   "source": [
    "print(object[\"response\"])"
   ]
  },
  {
   "cell_type": "code",
   "execution_count": null,
   "id": "9810e15f-a7c0-43fb-af49-b3b174664229",
   "metadata": {},
   "outputs": [],
   "source": []
  }
 ],
 "metadata": {
  "kernelspec": {
   "display_name": "Python 3 (ipykernel)",
   "language": "python",
   "name": "python3"
  },
  "language_info": {
   "codemirror_mode": {
    "name": "ipython",
    "version": 3
   },
   "file_extension": ".py",
   "mimetype": "text/x-python",
   "name": "python",
   "nbconvert_exporter": "python",
   "pygments_lexer": "ipython3",
   "version": "3.13.0"
  }
 },
 "nbformat": 4,
 "nbformat_minor": 5
}
