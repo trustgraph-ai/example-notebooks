{
 "cells": [
  {
   "cell_type": "markdown",
   "id": "692307ea-1c7b-4706-9a58-c55fe4fe66b9",
   "metadata": {},
   "source": [
    "# LLM invocation\n",
    "\n",
    "This notebook demonstrates the use of the TrustGraph text-completion API to perform a single interaction with the LLM.  This is a low-level basic interaction.  Other services, such as the prompt, graph RAG and agent APIs provide more functionality.\n",
    "\n",
    "For the text completion API a system and prompt string are provided."
   ]
  },
  {
   "cell_type": "code",
   "execution_count": 1,
   "id": "00d69772-9483-48d4-a039-37eeb89a2530",
   "metadata": {},
   "outputs": [],
   "source": [
    "import requests\n",
    "import json"
   ]
  },
  {
   "cell_type": "code",
   "execution_count": 2,
   "id": "85b454ff-1d44-40b5-9008-d400fdb5635c",
   "metadata": {},
   "outputs": [],
   "source": [
    "# ID of flow\n",
    "flow = \"default\"\n",
    "base_url = \"http://localhost:8088\""
   ]
  },
  {
   "cell_type": "code",
   "execution_count": 3,
   "id": "ff90cba7-e65e-4202-b118-7e0bd9f474c6",
   "metadata": {},
   "outputs": [],
   "source": [
    "# URL of the TrustGraph LLM API\n",
    "url = f\"{base_url}/api/v1/flow/{flow}/service/text-completion\""
   ]
  },
  {
   "cell_type": "code",
   "execution_count": 4,
   "id": "3af40651-094c-4d12-aaab-bdd4d809694c",
   "metadata": {},
   "outputs": [],
   "source": [
    "# The input consists of system and prompt strings\n",
    "input = {\n",
    "    \"system\": \"Respond in French.  Use long word, form of numbers, no digits\",\n",
    "    \"prompt\": \"Add 12 and 14, and then make a poem about llamas which incorporates that number.  Then write a joke about llamas\"\n",
    "}"
   ]
  },
  {
   "cell_type": "code",
   "execution_count": 5,
   "id": "5ffe4cad-bcd7-4e56-8728-86b4d6748a98",
   "metadata": {},
   "outputs": [],
   "source": [
    "# Invoke the API, input is passed as JSON\n",
    "resp = requests.post(url, json=input)"
   ]
  },
  {
   "cell_type": "code",
   "execution_count": 6,
   "id": "e0809c8f-7466-472f-b520-5d35c6aaa3f2",
   "metadata": {},
   "outputs": [
    {
     "data": {
      "text/plain": [
       "200"
      ]
     },
     "execution_count": 6,
     "metadata": {},
     "output_type": "execute_result"
    }
   ],
   "source": [
    "# Should be a 200 status code\n",
    "resp.status_code"
   ]
  },
  {
   "cell_type": "code",
   "execution_count": 7,
   "id": "9e8c3b8e-70ca-48e9-95b8-60e72ac971d0",
   "metadata": {},
   "outputs": [],
   "source": [
    "# Parse the response as JSON\n",
    "object = resp.json()"
   ]
  },
  {
   "cell_type": "code",
   "execution_count": 8,
   "id": "083870bb-c629-4a06-a257-fd77e2a01af5",
   "metadata": {},
   "outputs": [
    {
     "name": "stdout",
     "output_type": "stream",
     "text": [
      "Absolument !\n",
      "\n",
      "L'addition de douze et quatorze donne vingt-six.\n",
      "\n",
      "Voici un poème sur les lamas, intégrant le nombre vingt-six :\n",
      "\n",
      "**Le Mystère des Vingt-Six Lamas**\n",
      "\n",
      "Dans les Andes, un mystère se trame,\n",
      "Vingt-six lamas, une étrange flamme.\n",
      "Leur laine douce, couleur d'aurore,\n",
      "Cache un secret que le vent décore.\n",
      "\n",
      "Vingt-six regards, profonds et sages,\n",
      "Observent le temps, tournant les pages.\n",
      "Ils gardent un trésor, enfoui sous la terre,\n",
      "Un héritage ancestral, une prière.\n",
      "\n",
      "Vingt-six pas feutrés, sur les sentiers rocailleux,\n",
      "Guidant les voyageurs, courageux et joyeux.\n",
      "Leur présence paisible, un baume pour l'âme,\n",
      "Vingt-six lamas, une éternelle flamme.\n",
      "\n",
      "Et si vous croisez leur chemin un jour,\n",
      "Écoutez leur silence, plein d'amour.\n",
      "Car dans leurs yeux brille la sagesse andine,\n",
      "Vingt-six lamas, une histoire divine.\n",
      "\n",
      "Et maintenant, une blague sur les lamas :\n",
      "\n",
      "Pourquoi les lamas sont-ils si mauvais au poker ?\n",
      "\n",
      "Parce qu'ils crachent toujours quand ils bluffent !\n",
      "\n"
     ]
    }
   ],
   "source": [
    "# The result is a text block\n",
    "print(object[\"response\"])"
   ]
  },
  {
   "cell_type": "code",
   "execution_count": null,
   "id": "9810e15f-a7c0-43fb-af49-b3b174664229",
   "metadata": {},
   "outputs": [],
   "source": []
  }
 ],
 "metadata": {
  "kernelspec": {
   "display_name": "Python 3 (ipykernel)",
   "language": "python",
   "name": "python3"
  },
  "language_info": {
   "codemirror_mode": {
    "name": "ipython",
    "version": 3
   },
   "file_extension": ".py",
   "mimetype": "text/x-python",
   "name": "python",
   "nbconvert_exporter": "python",
   "pygments_lexer": "ipython3",
   "version": "3.12.10"
  }
 },
 "nbformat": 4,
 "nbformat_minor": 5
}
