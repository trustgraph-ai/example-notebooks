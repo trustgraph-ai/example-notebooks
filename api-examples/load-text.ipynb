{
 "cells": [
  {
   "cell_type": "markdown",
   "id": "75b7f6f9-97e2-46ff-887f-b5fdd849a0c7",
   "metadata": {},
   "source": [
    "# Graph visualization\n",
    "\n",
    "This notebook demonstrates the use of the TrustGraph triple store API to fetch information from the knowledge graph. This information is then visualized using the networkX graph visualisation library.  This notebook was executed against a running TrustGraph loaded with the space shuttle challenger report from NASA located here:\n",
    "\n",
    "https://ntrs.nasa.gov/citations/19860015255"
   ]
  },
  {
   "cell_type": "code",
   "execution_count": 1,
   "id": "cf1909b0-26a1-432a-9567-e0e053855c0c",
   "metadata": {},
   "outputs": [],
   "source": [
    "import requests\n",
    "import json\n",
    "import base64"
   ]
  },
  {
   "cell_type": "code",
   "execution_count": 3,
   "id": "e3198f2d-1f32-48ed-8352-9ac4de819577",
   "metadata": {},
   "outputs": [],
   "source": [
    "# URL of the TrustGraph triplestore query API\n",
    "url = \"http://localhost:8088/api/v1/load/text\""
   ]
  },
  {
   "cell_type": "code",
   "execution_count": 2,
   "id": "4dd99f46-daa7-4866-8beb-a47450c717ad",
   "metadata": {},
   "outputs": [],
   "source": [
    "text = open(\"../sources/README.cats\", \"rb\").read()"
   ]
  },
  {
   "cell_type": "code",
   "execution_count": 4,
   "id": "afc8b49e-3993-4f93-983c-8abb007db096",
   "metadata": {},
   "outputs": [],
   "source": [
    "org_id = \"https://trustgraph.ai/org/3c35111a-f8ce-54b2-4dd6-c673f8bf0d09\"\n",
    "doc_id = \"https://trustgraph.ai/doc/4faa45c1-f91a-a96a-d44f-2e57b9813db8\"\n",
    "pub_id = \"https://trustgraph.ai/pubev/a847d950-a281-4099-aaab-c5e35333ff61\""
   ]
  },
  {
   "cell_type": "code",
   "execution_count": 5,
   "id": "c931d413-5f7c-4b0e-b029-fce5ed168a6f",
   "metadata": {},
   "outputs": [],
   "source": [
    "org_facts = [\n",
    "    [org_id, \"http://www.w3.org/1999/02/22-rdf-syntax-ns#type\", \"https://schema.org/Organization\"],\n",
    "    [org_id, \"http://www.w3.org/2000/01/rdf-schema#label\", \"trustgraph.ai\"],\n",
    "    [org_id, \"https://schema.org/name\", \"trustgraph.ai\"]\n",
    "]"
   ]
  },
  {
   "cell_type": "code",
   "execution_count": 6,
   "id": "6443224e-0bb1-4044-818c-9fe6a81a5143",
   "metadata": {},
   "outputs": [],
   "source": [
    "pub_facts = [\n",
    "    [pub_id, \"http://www.w3.org/1999/02/22-rdf-syntax-ns#type\", \"https://schema.org/PublicationEvent\"],\n",
    "    [pub_id, \"https://schema.org/description\", \"Uploading to Github\"],\n",
    "    [pub_id, \"https://schema.org/endDate\", \"2024-10-23\"],\n",
    "    [pub_id, \"https://schema.org/publishedBy\", org_id],\n",
    "    [pub_id, \"https://schema.org/startDate\", \"2024-10-23\"]\n",
    "]"
   ]
  },
  {
   "cell_type": "code",
   "execution_count": 7,
   "id": "0bb89b9e-cd99-4220-92f8-1c43c98d45b9",
   "metadata": {},
   "outputs": [],
   "source": [
    "doc_facts = [\n",
    "    [doc_id, \"http://www.w3.org/1999/02/22-rdf-syntax-ns#type\", \"https://schema.org/DigitalDocument\"],\n",
    "    [doc_id, \"http://www.w3.org/2000/01/rdf-schema#label\", \"Mark's cats\"],\n",
    "    [doc_id, \"https://schema.org/copyrightHolder\", \"trustgraph.ai\"],\n",
    "    [doc_id, \"https://schema.org/copyrightNotice\", \"Public domain\"],\n",
    "    [doc_id, \"https://schema.org/copyrightYear\", \"2024\"],\n",
    "    [doc_id, \"https://schema.org/description\", \"This document describes Mark's cats\"],\n",
    "    [doc_id, \"https://schema.org/keywords\", \"animals\"],\n",
    "    [doc_id, \"https://schema.org/keywords\", \"cats\"],\n",
    "    [doc_id, \"https://schema.org/keywords\", \"home-life\"],\n",
    "    [doc_id, \"https://schema.org/name\", \"Mark's cats\"],\n",
    "    [doc_id, \"https://schema.org/publication\", pub_id],\n",
    "    [doc_id, \"https://schema.org/url\", \"https://example.com\"]\n",
    "]"
   ]
  },
  {
   "cell_type": "code",
   "execution_count": 8,
   "id": "0737470a-7554-45e1-b6f2-891f74af1316",
   "metadata": {},
   "outputs": [],
   "source": [
    "metadata = [\n",
    "    { \"s\": t[0], \"p\": t[1], \"o\": t[2] }\n",
    "    for t in org_facts + pub_facts + doc_facts\n",
    "]"
   ]
  },
  {
   "cell_type": "code",
   "execution_count": 9,
   "id": "db3fc683-902a-4225-90b4-f4b6ac33a237",
   "metadata": {},
   "outputs": [],
   "source": [
    "input = {\n",
    "    \"id\": doc_id,\n",
    "    \"metadata\": metadata,\n",
    "    \"charset\": \"utf-8\",\n",
    "    \"text\": base64.b64encode(text).decode(\"utf-8\")\n",
    "}"
   ]
  },
  {
   "cell_type": "code",
   "execution_count": 10,
   "id": "c8390dcb-607c-46b3-b0bb-d8f9fd818400",
   "metadata": {},
   "outputs": [],
   "source": [
    "resp = requests.post(url, json=input)"
   ]
  },
  {
   "cell_type": "code",
   "execution_count": 11,
   "id": "4148bf54-07e4-4e26-8197-9f082f8fe11b",
   "metadata": {},
   "outputs": [
    {
     "data": {
      "text/plain": [
       "200"
      ]
     },
     "execution_count": 11,
     "metadata": {},
     "output_type": "execute_result"
    }
   ],
   "source": [
    "# Should be a 200 status code\n",
    "resp.status_code"
   ]
  },
  {
   "cell_type": "code",
   "execution_count": null,
   "id": "431007ff-ee98-4440-a265-b26c9b6d6c26",
   "metadata": {},
   "outputs": [],
   "source": []
  }
 ],
 "metadata": {
  "kernelspec": {
   "display_name": "Python 3 (ipykernel)",
   "language": "python",
   "name": "python3"
  },
  "language_info": {
   "codemirror_mode": {
    "name": "ipython",
    "version": 3
   },
   "file_extension": ".py",
   "mimetype": "text/x-python",
   "name": "python",
   "nbconvert_exporter": "python",
   "pygments_lexer": "ipython3",
   "version": "3.13.0"
  }
 },
 "nbformat": 4,
 "nbformat_minor": 5
}
