{
 "cells": [
  {
   "cell_type": "markdown",
   "id": "75b7f6f9-97e2-46ff-887f-b5fdd849a0c7",
   "metadata": {},
   "source": [
    "# Loading a document\n",
    "\n",
    "This notebook demonstrates the use of the TrustGraph triple text load API to submit text for processing.\n",
    "\n",
    "The text load API optionally allows extra arbitrary metadata to be submitted with the document which is associated with the document and added to the triple store.  In this example, we add metadata in a form structured in line with schema.org Organization, PublicationEvent and Document schemas.\n",
    "\n",
    "The additional metadata is optional, the metadata element can be ignored.  However, if additional metadata is known, it can be integrated with TrustGraph processing."
   ]
  },
  {
   "cell_type": "code",
   "execution_count": 1,
   "id": "cf1909b0-26a1-432a-9567-e0e053855c0c",
   "metadata": {},
   "outputs": [],
   "source": [
    "import requests\n",
    "import json\n",
    "import base64"
   ]
  },
  {
   "cell_type": "code",
   "execution_count": 2,
   "id": "d0048b24-3ccc-46d0-a9ed-6af78ce4f25c",
   "metadata": {},
   "outputs": [],
   "source": [
    "text = \"\"\"\n",
    "\n",
    "My name is Mark.\n",
    "\n",
    "I have 2 cats:\n",
    "- Fred is a big, fat, orange, stripy cat.  He is 12 years old and has 4 legs.\n",
    "- Hope is a small, black cat.  She is 7 years old and also has 4 legs.\n",
    "\n",
    "Fred has 4 legs.\n",
    "\n",
    "Hope has 4 legs.\n",
    "\n",
    "Fred and Hope are nice animals, but occasionally they fight.\n",
    "\n",
    "Fred is lazy and sleeps a lot.  Hope is energetic, runs around a lot and\n",
    "climbs trees.\n",
    "\n",
    "Both cats have tails and whiskers like all cats do.\n",
    "\n",
    "Cats have the species name Felis catus.\n",
    "\n",
    "The cat (Felis catus), also referred to as domestic cat or house cat, is a\n",
    "small domesticated carnivorous mammal. It is the only domesticated species of\n",
    "the family Felidae. Advances in archaeology and genetics have shown that the\n",
    "domestication of the cat occurred in the Near East around 7500 BC. It is\n",
    "commonly kept as a pet and farm cat, but also ranges freely as a feral cat\n",
    "avoiding human contact. Valued by humans for companionship and its ability to\n",
    "kill vermin, the cat's retractable claws are adapted to killing small prey\n",
    "like mice and rats. It has a strong, flexible body, quick reflexes, and sharp\n",
    "teeth, and its night vision and sense of smell are well developed. It is a\n",
    "social species, but a solitary hunter and a crepuscular predator. Cat\n",
    "communication includes vocalizations—including meowing, purring, trilling,\n",
    "hissing, growling, and grunting–as well as body language. It can hear sounds\n",
    "too faint or too high in frequency for human ears, such as those made by small\n",
    "mammals. It secretes and perceives pheromones.\n",
    "\"\"\""
   ]
  },
  {
   "cell_type": "code",
   "execution_count": 3,
   "id": "0a9f3814-17eb-4b50-97d7-d442a22b52a5",
   "metadata": {},
   "outputs": [],
   "source": [
    "# ID of flow\n",
    "flow = \"default\"\n",
    "base_url = \"http://localhost:8088\""
   ]
  },
  {
   "cell_type": "code",
   "execution_count": 4,
   "id": "3674059d-05fe-48b5-a781-6d8aa61ba589",
   "metadata": {},
   "outputs": [],
   "source": [
    "# URL of the TrustGraph prompt API\n",
    "url = f\"{base_url}/api/v1/flow/{flow}/service/prompt\""
   ]
  },
  {
   "cell_type": "code",
   "execution_count": 5,
   "id": "afc8b49e-3993-4f93-983c-8abb007db096",
   "metadata": {},
   "outputs": [],
   "source": [
    "# Some random identifiers.  The doc ID is important, as extracted knowledge is linked back to this identifier\n",
    "org_id = \"https://trustgraph.ai/org/3c35111a-f8ce-54b2-4dd6-c673f8bf0d09\"\n",
    "doc_id = \"https://trustgraph.ai/doc/4faa45c1-f91a-a96a-d44f-2e57b9813db8\"\n",
    "pub_id = \"https://trustgraph.ai/pubev/a847d950-a281-4099-aaab-c5e35333ff61\""
   ]
  },
  {
   "cell_type": "code",
   "execution_count": 6,
   "id": "c931d413-5f7c-4b0e-b029-fce5ed168a6f",
   "metadata": {},
   "outputs": [],
   "source": [
    "# Organization metadata\n",
    "org_facts = [\n",
    "    [org_id, \"http://www.w3.org/1999/02/22-rdf-syntax-ns#type\", \"https://schema.org/Organization\"],\n",
    "    [org_id, \"http://www.w3.org/2000/01/rdf-schema#label\", \"trustgraph.ai\"],\n",
    "    [org_id, \"https://schema.org/name\", \"trustgraph.ai\"]\n",
    "]"
   ]
  },
  {
   "cell_type": "code",
   "execution_count": 7,
   "id": "6443224e-0bb1-4044-818c-9fe6a81a5143",
   "metadata": {},
   "outputs": [],
   "source": [
    "# Puublication metadata.  Note how it links to the Organization\n",
    "pub_facts = [\n",
    "    [pub_id, \"http://www.w3.org/1999/02/22-rdf-syntax-ns#type\", \"https://schema.org/PublicationEvent\"],\n",
    "    [pub_id, \"https://schema.org/description\", \"Uploading to Github\"],\n",
    "    [pub_id, \"https://schema.org/endDate\", \"2024-10-23\"],\n",
    "    [pub_id, \"https://schema.org/publishedBy\", org_id],\n",
    "    [pub_id, \"https://schema.org/startDate\", \"2024-10-23\"]\n",
    "]"
   ]
  },
  {
   "cell_type": "code",
   "execution_count": 8,
   "id": "0bb89b9e-cd99-4220-92f8-1c43c98d45b9",
   "metadata": {},
   "outputs": [],
   "source": [
    "# Document metadata.  Note how it links to the publication event\n",
    "doc_facts = [\n",
    "    [doc_id, \"http://www.w3.org/1999/02/22-rdf-syntax-ns#type\", \"https://schema.org/DigitalDocument\"],\n",
    "    [doc_id, \"http://www.w3.org/2000/01/rdf-schema#label\", \"Mark's cats\"],\n",
    "    [doc_id, \"https://schema.org/copyrightHolder\", \"trustgraph.ai\"],\n",
    "    [doc_id, \"https://schema.org/copyrightNotice\", \"Public domain\"],\n",
    "    [doc_id, \"https://schema.org/copyrightYear\", \"2024\"],\n",
    "    [doc_id, \"https://schema.org/description\", \"This document describes Mark's cats\"],\n",
    "    [doc_id, \"https://schema.org/keywords\", \"animals\"],\n",
    "    [doc_id, \"https://schema.org/keywords\", \"cats\"],\n",
    "    [doc_id, \"https://schema.org/keywords\", \"home-life\"],\n",
    "    [doc_id, \"https://schema.org/name\", \"Mark's cats\"],\n",
    "    [doc_id, \"https://schema.org/publication\", pub_id],\n",
    "    [doc_id, \"https://schema.org/url\", \"https://example.com\"]\n",
    "]"
   ]
  },
  {
   "cell_type": "code",
   "execution_count": 9,
   "id": "0737470a-7554-45e1-b6f2-891f74af1316",
   "metadata": {},
   "outputs": [],
   "source": [
    "# Convert the above metadata into the right form\n",
    "metadata = [\n",
    "    {\n",
    "        \"s\": {\n",
    "            \"v\": t[0],\n",
    "            \"e\": True,\n",
    "        },\n",
    "        \"p\": {\n",
    "            \"v\": t[1],\n",
    "            \"e\": True,\n",
    "        },\n",
    "        \"o\": {\n",
    "            \"v\": t[2],\n",
    "            \"e\": t[2].startswith(\"http\")\n",
    "        }\n",
    "    }\n",
    "    for t in org_facts + pub_facts + doc_facts\n",
    "]"
   ]
  },
  {
   "cell_type": "code",
   "execution_count": 10,
   "id": "c61600a5-6fd8-4ee0-a6e5-f34c951d165e",
   "metadata": {},
   "outputs": [
    {
     "data": {
      "text/plain": [
       "[{'s': {'v': 'https://trustgraph.ai/org/3c35111a-f8ce-54b2-4dd6-c673f8bf0d09',\n",
       "   'e': True},\n",
       "  'p': {'v': 'http://www.w3.org/1999/02/22-rdf-syntax-ns#type', 'e': True},\n",
       "  'o': {'v': 'https://schema.org/Organization', 'e': True}},\n",
       " {'s': {'v': 'https://trustgraph.ai/org/3c35111a-f8ce-54b2-4dd6-c673f8bf0d09',\n",
       "   'e': True},\n",
       "  'p': {'v': 'http://www.w3.org/2000/01/rdf-schema#label', 'e': True},\n",
       "  'o': {'v': 'trustgraph.ai', 'e': False}},\n",
       " {'s': {'v': 'https://trustgraph.ai/org/3c35111a-f8ce-54b2-4dd6-c673f8bf0d09',\n",
       "   'e': True},\n",
       "  'p': {'v': 'https://schema.org/name', 'e': True},\n",
       "  'o': {'v': 'trustgraph.ai', 'e': False}},\n",
       " {'s': {'v': 'https://trustgraph.ai/pubev/a847d950-a281-4099-aaab-c5e35333ff61',\n",
       "   'e': True},\n",
       "  'p': {'v': 'http://www.w3.org/1999/02/22-rdf-syntax-ns#type', 'e': True},\n",
       "  'o': {'v': 'https://schema.org/PublicationEvent', 'e': True}},\n",
       " {'s': {'v': 'https://trustgraph.ai/pubev/a847d950-a281-4099-aaab-c5e35333ff61',\n",
       "   'e': True},\n",
       "  'p': {'v': 'https://schema.org/description', 'e': True},\n",
       "  'o': {'v': 'Uploading to Github', 'e': False}},\n",
       " {'s': {'v': 'https://trustgraph.ai/pubev/a847d950-a281-4099-aaab-c5e35333ff61',\n",
       "   'e': True},\n",
       "  'p': {'v': 'https://schema.org/endDate', 'e': True},\n",
       "  'o': {'v': '2024-10-23', 'e': False}},\n",
       " {'s': {'v': 'https://trustgraph.ai/pubev/a847d950-a281-4099-aaab-c5e35333ff61',\n",
       "   'e': True},\n",
       "  'p': {'v': 'https://schema.org/publishedBy', 'e': True},\n",
       "  'o': {'v': 'https://trustgraph.ai/org/3c35111a-f8ce-54b2-4dd6-c673f8bf0d09',\n",
       "   'e': True}},\n",
       " {'s': {'v': 'https://trustgraph.ai/pubev/a847d950-a281-4099-aaab-c5e35333ff61',\n",
       "   'e': True},\n",
       "  'p': {'v': 'https://schema.org/startDate', 'e': True},\n",
       "  'o': {'v': '2024-10-23', 'e': False}},\n",
       " {'s': {'v': 'https://trustgraph.ai/doc/4faa45c1-f91a-a96a-d44f-2e57b9813db8',\n",
       "   'e': True},\n",
       "  'p': {'v': 'http://www.w3.org/1999/02/22-rdf-syntax-ns#type', 'e': True},\n",
       "  'o': {'v': 'https://schema.org/DigitalDocument', 'e': True}},\n",
       " {'s': {'v': 'https://trustgraph.ai/doc/4faa45c1-f91a-a96a-d44f-2e57b9813db8',\n",
       "   'e': True},\n",
       "  'p': {'v': 'http://www.w3.org/2000/01/rdf-schema#label', 'e': True},\n",
       "  'o': {'v': \"Mark's cats\", 'e': False}},\n",
       " {'s': {'v': 'https://trustgraph.ai/doc/4faa45c1-f91a-a96a-d44f-2e57b9813db8',\n",
       "   'e': True},\n",
       "  'p': {'v': 'https://schema.org/copyrightHolder', 'e': True},\n",
       "  'o': {'v': 'trustgraph.ai', 'e': False}},\n",
       " {'s': {'v': 'https://trustgraph.ai/doc/4faa45c1-f91a-a96a-d44f-2e57b9813db8',\n",
       "   'e': True},\n",
       "  'p': {'v': 'https://schema.org/copyrightNotice', 'e': True},\n",
       "  'o': {'v': 'Public domain', 'e': False}},\n",
       " {'s': {'v': 'https://trustgraph.ai/doc/4faa45c1-f91a-a96a-d44f-2e57b9813db8',\n",
       "   'e': True},\n",
       "  'p': {'v': 'https://schema.org/copyrightYear', 'e': True},\n",
       "  'o': {'v': '2024', 'e': False}},\n",
       " {'s': {'v': 'https://trustgraph.ai/doc/4faa45c1-f91a-a96a-d44f-2e57b9813db8',\n",
       "   'e': True},\n",
       "  'p': {'v': 'https://schema.org/description', 'e': True},\n",
       "  'o': {'v': \"This document describes Mark's cats\", 'e': False}},\n",
       " {'s': {'v': 'https://trustgraph.ai/doc/4faa45c1-f91a-a96a-d44f-2e57b9813db8',\n",
       "   'e': True},\n",
       "  'p': {'v': 'https://schema.org/keywords', 'e': True},\n",
       "  'o': {'v': 'animals', 'e': False}},\n",
       " {'s': {'v': 'https://trustgraph.ai/doc/4faa45c1-f91a-a96a-d44f-2e57b9813db8',\n",
       "   'e': True},\n",
       "  'p': {'v': 'https://schema.org/keywords', 'e': True},\n",
       "  'o': {'v': 'cats', 'e': False}},\n",
       " {'s': {'v': 'https://trustgraph.ai/doc/4faa45c1-f91a-a96a-d44f-2e57b9813db8',\n",
       "   'e': True},\n",
       "  'p': {'v': 'https://schema.org/keywords', 'e': True},\n",
       "  'o': {'v': 'home-life', 'e': False}},\n",
       " {'s': {'v': 'https://trustgraph.ai/doc/4faa45c1-f91a-a96a-d44f-2e57b9813db8',\n",
       "   'e': True},\n",
       "  'p': {'v': 'https://schema.org/name', 'e': True},\n",
       "  'o': {'v': \"Mark's cats\", 'e': False}},\n",
       " {'s': {'v': 'https://trustgraph.ai/doc/4faa45c1-f91a-a96a-d44f-2e57b9813db8',\n",
       "   'e': True},\n",
       "  'p': {'v': 'https://schema.org/publication', 'e': True},\n",
       "  'o': {'v': 'https://trustgraph.ai/pubev/a847d950-a281-4099-aaab-c5e35333ff61',\n",
       "   'e': True}},\n",
       " {'s': {'v': 'https://trustgraph.ai/doc/4faa45c1-f91a-a96a-d44f-2e57b9813db8',\n",
       "   'e': True},\n",
       "  'p': {'v': 'https://schema.org/url', 'e': True},\n",
       "  'o': {'v': 'https://example.com', 'e': True}}]"
      ]
     },
     "execution_count": 10,
     "metadata": {},
     "output_type": "execute_result"
    }
   ],
   "source": [
    "metadata"
   ]
  },
  {
   "cell_type": "code",
   "execution_count": 11,
   "id": "db3fc683-902a-4225-90b4-f4b6ac33a237",
   "metadata": {},
   "outputs": [],
   "source": [
    "# The input\n",
    "input = {\n",
    "\n",
    "    # Document identifer.  Knowledge derived by TrustGraph is linked to this identifier, so\n",
    "    # the additional metadata specified above is linked to the derived knowledge and users of\n",
    "    # the knowledge graph could see information about the source of knowledge\n",
    "    \"id\": doc_id,\n",
    "\n",
    "    # Additional metadata in the form of RDF triples\n",
    "    \"metadata\": metadata,\n",
    "\n",
    "    # Text character set.  Default is UTF-8\n",
    "    \"charset\": \"utf-8\",\n",
    "\n",
    "    # The PDF document, is presented as a base64 encoded document.\n",
    "    \"text\": base64.b64encode(text.encode(\"utf-8\")).decode(\"utf-8\")\n",
    "    \n",
    "}"
   ]
  },
  {
   "cell_type": "code",
   "execution_count": 12,
   "id": "c8390dcb-607c-46b3-b0bb-d8f9fd818400",
   "metadata": {},
   "outputs": [],
   "source": [
    "# Invoke the API, input is passed as JSON\n",
    "resp = requests.post(url, json=input)"
   ]
  },
  {
   "cell_type": "code",
   "execution_count": 13,
   "id": "4148bf54-07e4-4e26-8197-9f082f8fe11b",
   "metadata": {},
   "outputs": [
    {
     "data": {
      "text/plain": [
       "200"
      ]
     },
     "execution_count": 13,
     "metadata": {},
     "output_type": "execute_result"
    }
   ],
   "source": [
    "# Should be a 200 status code\n",
    "resp.status_code"
   ]
  },
  {
   "cell_type": "code",
   "execution_count": 14,
   "id": "431007ff-ee98-4440-a265-b26c9b6d6c26",
   "metadata": {},
   "outputs": [],
   "source": [
    "# The document load returns no response.  A 200 response shows the submitted text is queued to enter processing flows"
   ]
  },
  {
   "cell_type": "code",
   "execution_count": null,
   "id": "db39c87d-cfd7-4752-b1e6-c1c96340f914",
   "metadata": {},
   "outputs": [],
   "source": []
  }
 ],
 "metadata": {
  "kernelspec": {
   "display_name": "Python 3 (ipykernel)",
   "language": "python",
   "name": "python3"
  },
  "language_info": {
   "codemirror_mode": {
    "name": "ipython",
    "version": 3
   },
   "file_extension": ".py",
   "mimetype": "text/x-python",
   "name": "python",
   "nbconvert_exporter": "python",
   "pygments_lexer": "ipython3",
   "version": "3.12.10"
  }
 },
 "nbformat": 4,
 "nbformat_minor": 5
}
