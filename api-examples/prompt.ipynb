{
 "cells": [
  {
   "cell_type": "code",
   "execution_count": 1,
   "id": "cf1909b0-26a1-432a-9567-e0e053855c0c",
   "metadata": {},
   "outputs": [],
   "source": [
    "import requests\n",
    "import json"
   ]
  },
  {
   "cell_type": "code",
   "execution_count": 2,
   "id": "4155f32d-98fb-4f24-8905-a6f472064648",
   "metadata": {},
   "outputs": [],
   "source": [
    "url = \"http://localhost:8088/api/v1/prompt\""
   ]
  },
  {
   "cell_type": "code",
   "execution_count": 3,
   "id": "86ced374-91a2-4ecd-98fe-3b7d65a444f1",
   "metadata": {},
   "outputs": [],
   "source": [
    "input = {\n",
    "    \"id\": \"question\",\n",
    "    \"variables\": {\n",
    "        \"question\": \"Write a joke about llamas.\"\n",
    "    }\n",
    "}"
   ]
  },
  {
   "cell_type": "code",
   "execution_count": 4,
   "id": "760d589a-0d00-46f7-b9eb-c127a6b3c741",
   "metadata": {},
   "outputs": [],
   "source": [
    "resp = requests.post(url, json=input)"
   ]
  },
  {
   "cell_type": "code",
   "execution_count": 5,
   "id": "6f81b83f-be3f-431d-b03d-29618f33b69e",
   "metadata": {},
   "outputs": [
    {
     "data": {
      "text/plain": [
       "200"
      ]
     },
     "execution_count": 5,
     "metadata": {},
     "output_type": "execute_result"
    }
   ],
   "source": [
    "resp.status_code"
   ]
  },
  {
   "cell_type": "code",
   "execution_count": 6,
   "id": "7d9207ab-1ab8-43c5-82a4-1b5c0aacc3b4",
   "metadata": {},
   "outputs": [],
   "source": [
    "resp = resp.json()"
   ]
  },
  {
   "cell_type": "code",
   "execution_count": 7,
   "id": "bb879139-6955-4f76-8ee0-e9dad6efc56b",
   "metadata": {},
   "outputs": [
    {
     "name": "stdout",
     "output_type": "stream",
     "text": [
      "Why did the llama refuse to sing karaoke?\n",
      "\n",
      "Because he only knew his alpaca-ella!\n",
      "\n"
     ]
    }
   ],
   "source": [
    "# The output of this prompt is just 'text' so access through the 'text' attribute\n",
    "print(resp[\"text\"])"
   ]
  },
  {
   "cell_type": "code",
   "execution_count": null,
   "id": "ff1a5ab8-0c04-4cff-a6de-3104ff2a3a58",
   "metadata": {},
   "outputs": [],
   "source": []
  }
 ],
 "metadata": {
  "kernelspec": {
   "display_name": "Python 3 (ipykernel)",
   "language": "python",
   "name": "python3"
  },
  "language_info": {
   "codemirror_mode": {
    "name": "ipython",
    "version": 3
   },
   "file_extension": ".py",
   "mimetype": "text/x-python",
   "name": "python",
   "nbconvert_exporter": "python",
   "pygments_lexer": "ipython3",
   "version": "3.13.0"
  }
 },
 "nbformat": 4,
 "nbformat_minor": 5
}
