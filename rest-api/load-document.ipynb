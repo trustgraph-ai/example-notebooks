{
 "cells": [
  {
   "cell_type": "markdown",
   "id": "450697a3-1903-4c5b-b52e-74334bf75af6",
   "metadata": {},
   "source": [
    "# Loading a document\n",
    "\n",
    "This notebook demonstrates the use of the TrustGraph librarian API to submit text for processing.\n",
    "\n",
    "The API optionally allows extra arbitrary metadata to be submitted with the document which is associated with the document and added to the triple store.  In this example, we add metadata in a form structured in line with schema.org Organization, PublicationEvent and Document schemas.\n",
    "\n",
    "The additional metadata is optional, the metadata element can be ignored.  However, if additional metadata is known, it can be integrated with TrustGraph processing.\n",
    "\n",
    "This particular processing uses the following API calls:\n",
    "- Load a document into the library\n",
    "- Create a new flow\n",
    "- Submit the document for processing in that flow\n",
    "\n",
    "This will fail if the document, flow and flow submission already exist, so don't execute this notebook more than once."
   ]
  },
  {
   "cell_type": "code",
   "execution_count": 1,
   "id": "cf1909b0-26a1-432a-9567-e0e053855c0c",
   "metadata": {},
   "outputs": [],
   "source": [
    "import requests\n",
    "import json\n",
    "import base64\n",
    "import time"
   ]
  },
  {
   "cell_type": "code",
   "execution_count": 2,
   "id": "4dd99f46-daa7-4866-8beb-a47450c717ad",
   "metadata": {},
   "outputs": [],
   "source": [
    "# Open a PDF document from this repo.  PDFs are binary blobs\n",
    "blob = open(\"../sources/Challenger-Report-Vol1.pdf\", \"rb\").read()\n",
    "\n",
    "title = \"Challenger Report Volume 1\""
   ]
  },
  {
   "cell_type": "code",
   "execution_count": 3,
   "id": "704af207-6985-4675-b032-ee4513cabff3",
   "metadata": {},
   "outputs": [],
   "source": [
    "# ID of flow\n",
    "flow = \"my-flow2\"\n",
    "base_url = \"http://localhost:8088\""
   ]
  },
  {
   "cell_type": "code",
   "execution_count": 4,
   "id": "e3198f2d-1f32-48ed-8352-9ac4de819577",
   "metadata": {},
   "outputs": [],
   "source": [
    "# URL of the TrustGraph prompt API\n",
    "url = f\"{base_url}/api/v1/librarian\""
   ]
  },
  {
   "cell_type": "code",
   "execution_count": 5,
   "id": "afc8b49e-3993-4f93-983c-8abb007db096",
   "metadata": {},
   "outputs": [],
   "source": [
    "# Some random identifiers.  The doc ID is important, as extracted knowledge is linked back to this identifier\n",
    "org_id = \"https://trustgraph.ai/org/1dd51ece-8bd3-48b8-98ce-1ac9164c5214\"\n",
    "doc_id = \"https://trustgraph.ai/doc/72ef3374-af7a-40c4-8c7b-45050aef5b90\"\n",
    "pub_id = \"https://trustgraph.ai/pubev/59012ae1-65d4-441f-8288-b6f3c6c15333\""
   ]
  },
  {
   "cell_type": "code",
   "execution_count": 6,
   "id": "c931d413-5f7c-4b0e-b029-fce5ed168a6f",
   "metadata": {},
   "outputs": [],
   "source": [
    "# Organization metadata\n",
    "org_facts = [\n",
    "    [org_id, \"http://www.w3.org/1999/02/22-rdf-syntax-ns#type\", \"https://schema.org/Organization\"],\n",
    "    [org_id, \"http://www.w3.org/2000/01/rdf-schema#label\", \"NASA\"],\n",
    "    [org_id, \"https://schema.org/name\", \"NASA\"]\n",
    "]"
   ]
  },
  {
   "cell_type": "code",
   "execution_count": 7,
   "id": "6443224e-0bb1-4044-818c-9fe6a81a5143",
   "metadata": {},
   "outputs": [],
   "source": [
    "# Puublication metadata.  Note how it links to the Organization\n",
    "pub_facts = [\n",
    "    [pub_id, \"http://www.w3.org/1999/02/22-rdf-syntax-ns#type\", \"https://schema.org/PublicationEvent\"],\n",
    "    [pub_id, \"https://schema.org/description\", \"Uploading to Github\"],\n",
    "    [pub_id, \"https://schema.org/endDate\", \"1986-06-06\"],\n",
    "    [pub_id, \"https://schema.org/publishedBy\", org_id],\n",
    "    [pub_id, \"https://schema.org/startDate\", \"1986-06-06\"]\n",
    "]"
   ]
  },
  {
   "cell_type": "code",
   "execution_count": 8,
   "id": "0bb89b9e-cd99-4220-92f8-1c43c98d45b9",
   "metadata": {},
   "outputs": [],
   "source": [
    "# Document metadata.  Note how it links to the publication event\n",
    "doc_facts = [\n",
    "    [doc_id, \"http://www.w3.org/1999/02/22-rdf-syntax-ns#type\", \"https://schema.org/DigitalDocument\"],\n",
    "    [doc_id, \"http://www.w3.org/2000/01/rdf-schema#label\", \"Challenger Report Volume 1\"],\n",
    "    [doc_id, \"https://schema.org/copyrightHolder\", \"US Government\"],\n",
    "    [doc_id, \"https://schema.org/copyrightNotice\", \"Work of the US Gov. Public Use Permitted\"],\n",
    "    [doc_id, \"https://schema.org/copyrightYear\", \"1986\"],\n",
    "    [doc_id, \"https://schema.org/description\", \"The findings of the Presidential Commission regarding the circumstances surrounding the Challenger accident are reported and recommendations for corrective action are outlined\"],\n",
    "    [doc_id, \"https://schema.org/keywords\", \"nasa\"],\n",
    "    [doc_id, \"https://schema.org/keywords\", \"challenger\"],\n",
    "    [doc_id, \"https://schema.org/keywords\", \"space-shuttle\"],\n",
    "    [doc_id, \"https://schema.org/keywords\", \"shuttle\"],\n",
    "    [doc_id, \"https://schema.org/keywords\", \"orbiter\"],\n",
    "    [doc_id, \"https://schema.org/name\", \"Challenger Report Volume 1\"],\n",
    "    [doc_id, \"https://schema.org/publication\", pub_id],\n",
    "    [doc_id, \"https://schema.org/url\", \"https://ntrs.nasa.gov/citations/19860015255\"]\n",
    "]"
   ]
  },
  {
   "cell_type": "code",
   "execution_count": 9,
   "id": "0737470a-7554-45e1-b6f2-891f74af1316",
   "metadata": {},
   "outputs": [],
   "source": [
    "# Convert the above metadata into the right form\n",
    "metadata = [\n",
    "    {\n",
    "        \"s\": {\n",
    "            \"v\": t[0],\n",
    "            \"e\": True,\n",
    "        },\n",
    "        \"p\": {\n",
    "            \"v\": t[1],\n",
    "            \"e\": True,\n",
    "        },\n",
    "        \"o\": {\n",
    "            \"v\": t[2],\n",
    "            \"e\": t[2].startswith(\"http\")\n",
    "        }\n",
    "    }\n",
    "    for t in org_facts + pub_facts + doc_facts\n",
    "]"
   ]
  },
  {
   "cell_type": "code",
   "execution_count": 10,
   "id": "db3fc683-902a-4225-90b4-f4b6ac33a237",
   "metadata": {},
   "outputs": [],
   "source": [
    "# The input\n",
    "input = {\n",
    "\n",
    "    \"operation\": \"add-document\",\n",
    "\n",
    "    \"document-metadata\": {\n",
    "\n",
    "        # Document identifer.  Knowledge derived by TrustGraph is linked to this identifier, so\n",
    "        # the additional metadata specified above is linked to the derived knowledge and users of\n",
    "        # the knowledge graph could see information about the source of knowledge\n",
    "        \"id\": doc_id,\n",
    "\n",
    "        \"time\": int(time.time()),\n",
    "\n",
    "        \"kind\": \"application/pdf\",\n",
    "\n",
    "        \"title\": title,\n",
    "\n",
    "        \"comments\": \"This is some more test text\",\n",
    "\n",
    "        # Additional metadata in the form of RDF triples\n",
    "        \"metadata\": metadata,\n",
    "\n",
    "        \"user\": \"trustgraph\",\n",
    "\n",
    "    },\n",
    "\n",
    "    # The PDF document, is presented as a base64 encoded document.\n",
    "    \"content\": base64.b64encode(blob).decode(\"utf-8\")\n",
    "    \n",
    "}"
   ]
  },
  {
   "cell_type": "code",
   "execution_count": 11,
   "id": "c8390dcb-607c-46b3-b0bb-d8f9fd818400",
   "metadata": {},
   "outputs": [],
   "source": [
    "# Invoke the API, input is passed as JSON\n",
    "resp = requests.post(url, json=input)"
   ]
  },
  {
   "cell_type": "code",
   "execution_count": 12,
   "id": "4148bf54-07e4-4e26-8197-9f082f8fe11b",
   "metadata": {},
   "outputs": [
    {
     "data": {
      "text/plain": [
       "200"
      ]
     },
     "execution_count": 12,
     "metadata": {},
     "output_type": "execute_result"
    }
   ],
   "source": [
    "# Should be a 200 status code\n",
    "resp.status_code"
   ]
  },
  {
   "cell_type": "code",
   "execution_count": 13,
   "id": "431007ff-ee98-4440-a265-b26c9b6d6c26",
   "metadata": {},
   "outputs": [],
   "source": [
    "# The document load returns no response.  A 200 response shows the submitted PDF is queued to enter processing flows"
   ]
  },
  {
   "cell_type": "code",
   "execution_count": 14,
   "id": "fe949222-a0c0-4420-8e6b-b39ad02a8992",
   "metadata": {},
   "outputs": [
    {
     "data": {
      "text/plain": [
       "{}"
      ]
     },
     "execution_count": 14,
     "metadata": {},
     "output_type": "execute_result"
    }
   ],
   "source": [
    "resp.json()"
   ]
  },
  {
   "cell_type": "code",
   "execution_count": 15,
   "id": "4ce497c3-015e-4d46-8720-a8a3ee65f5bd",
   "metadata": {},
   "outputs": [],
   "source": [
    "assert(\"error\" not in resp.json())"
   ]
  },
  {
   "cell_type": "markdown",
   "id": "3d39bba7-1f32-4dc7-98e9-ea68629fe412",
   "metadata": {},
   "source": [
    "# Start a flow"
   ]
  },
  {
   "cell_type": "code",
   "execution_count": 16,
   "id": "2eb072c3-7791-4e8d-bfd7-2382e6c06352",
   "metadata": {},
   "outputs": [],
   "source": [
    "# URL of the TrustGraph prompt API\n",
    "url = f\"{base_url}/api/v1/flow\""
   ]
  },
  {
   "cell_type": "code",
   "execution_count": 17,
   "id": "e4169350-9f4e-4cab-a823-e1dbeb9b9a35",
   "metadata": {},
   "outputs": [],
   "source": [
    "# The input\n",
    "input = {\n",
    "\n",
    "    \"operation\": \"start-flow\",\n",
    "\n",
    "    \"flow-id\": flow,\n",
    "\n",
    "    \"class-name\": \"document-rag+graph-rag\",\n",
    "\n",
    "    \"description\": \"My new flow\"\n",
    "\n",
    "}"
   ]
  },
  {
   "cell_type": "code",
   "execution_count": 18,
   "id": "3c0f0581-ec3b-4ad0-a28d-a7cba3b49202",
   "metadata": {},
   "outputs": [],
   "source": [
    "# Invoke the API, input is passed as JSON\n",
    "resp = requests.post(url, json=input)"
   ]
  },
  {
   "cell_type": "code",
   "execution_count": 19,
   "id": "462cb4d6-13ed-4dc9-91a3-6fa7556d6e18",
   "metadata": {},
   "outputs": [
    {
     "data": {
      "text/plain": [
       "200"
      ]
     },
     "execution_count": 19,
     "metadata": {},
     "output_type": "execute_result"
    }
   ],
   "source": [
    "# Should be a 200 status code\n",
    "resp.status_code"
   ]
  },
  {
   "cell_type": "code",
   "execution_count": 20,
   "id": "a6b65695-afc9-4718-a771-0d26b353bcec",
   "metadata": {},
   "outputs": [
    {
     "data": {
      "text/plain": [
       "{}"
      ]
     },
     "execution_count": 20,
     "metadata": {},
     "output_type": "execute_result"
    }
   ],
   "source": [
    "resp.json()"
   ]
  },
  {
   "cell_type": "code",
   "execution_count": 21,
   "id": "7d2de646-f843-4a05-80a4-0aa6f8298d9b",
   "metadata": {},
   "outputs": [],
   "source": [
    "assert(\"error\" not in resp.json())"
   ]
  },
  {
   "cell_type": "markdown",
   "id": "4f105abb-f55d-4683-a75c-c27e8c74308a",
   "metadata": {},
   "source": [
    "# Submit document for processing"
   ]
  },
  {
   "cell_type": "code",
   "execution_count": 22,
   "id": "4af6e5f7-2fb8-4804-a235-4836b58dabed",
   "metadata": {},
   "outputs": [],
   "source": [
    "# URL of the TrustGraph prompt API\n",
    "url = f\"{base_url}/api/v1/librarian\""
   ]
  },
  {
   "cell_type": "code",
   "execution_count": 23,
   "id": "a1effbc3-b52d-46e1-b662-a3378076b3b7",
   "metadata": {},
   "outputs": [],
   "source": [
    "# The input\n",
    "input = {\n",
    "\n",
    "    \"operation\": \"add-processing\",\n",
    "\n",
    "    \"processing-metadata\": {\n",
    "\n",
    "        \"id\": \"proc02\",\n",
    "\n",
    "        \"document-id\": doc_id,\n",
    "\n",
    "        \"time\": int(time.time()),\n",
    "\n",
    "        \"flow\": flow,\n",
    "\n",
    "        \"user\": \"trustgraph\",\n",
    "        \"collection\": \"default\",\n",
    "\n",
    "        \"tags\": [\"my document\", \"processing test\"],\n",
    "\n",
    "    }\n",
    "\n",
    "}"
   ]
  },
  {
   "cell_type": "code",
   "execution_count": 24,
   "id": "6ead3dd5-72b6-4631-95c3-b2410b50f3ac",
   "metadata": {},
   "outputs": [],
   "source": [
    "# Invoke the API, input is passed as JSON\n",
    "resp = requests.post(url, json=input)"
   ]
  },
  {
   "cell_type": "code",
   "execution_count": 25,
   "id": "a571d273-4fc7-4a5c-88ed-3ec9c376b33c",
   "metadata": {},
   "outputs": [
    {
     "data": {
      "text/plain": [
       "200"
      ]
     },
     "execution_count": 25,
     "metadata": {},
     "output_type": "execute_result"
    }
   ],
   "source": [
    "# Should be a 200 status code\n",
    "resp.status_code"
   ]
  },
  {
   "cell_type": "code",
   "execution_count": 26,
   "id": "443a3db6-a406-4040-ab88-ab5f9b7d7179",
   "metadata": {},
   "outputs": [
    {
     "data": {
      "text/plain": [
       "{}"
      ]
     },
     "execution_count": 26,
     "metadata": {},
     "output_type": "execute_result"
    }
   ],
   "source": [
    "resp.json()"
   ]
  },
  {
   "cell_type": "code",
   "execution_count": 27,
   "id": "f893cce7-97a9-483d-b214-578049fcba87",
   "metadata": {},
   "outputs": [],
   "source": [
    "assert(\"error\" not in resp.json())"
   ]
  },
  {
   "cell_type": "code",
   "execution_count": null,
   "id": "a57e672f-874c-44a1-809f-2620f88633bc",
   "metadata": {},
   "outputs": [],
   "source": []
  }
 ],
 "metadata": {
  "kernelspec": {
   "display_name": "Python 3 (ipykernel)",
   "language": "python",
   "name": "python3"
  },
  "language_info": {
   "codemirror_mode": {
    "name": "ipython",
    "version": 3
   },
   "file_extension": ".py",
   "mimetype": "text/x-python",
   "name": "python",
   "nbconvert_exporter": "python",
   "pygments_lexer": "ipython3",
   "version": "3.12.10"
  }
 },
 "nbformat": 4,
 "nbformat_minor": 5
}
