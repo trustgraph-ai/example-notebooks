{
 "cells": [
  {
   "cell_type": "markdown",
   "id": "0d03b277-65f0-47e9-b3f6-36a0f2b4bf1c",
   "metadata": {},
   "source": [
    "# Agent API\n",
    "\n",
    "This notebook demonstrates the use of the TrustGraph agent API to reason using information in the knowledge graph.\n",
    "\n",
    "This notebook was executed against a running TrustGraph loaded with the space shuttle challenger report from NASA located here:\n",
    "\n",
    "https://ntrs.nasa.gov/citations/19860015255\n",
    "\n",
    "## Tool configuration\n",
    "\n",
    "The agent tooling was configured:\n",
    "\n",
    "| tool | mode | description |\n",
    "| --- | --- | --- |\n",
    "| knowledge-query | knowledge-query | Query the knowledge base for additional information about the space shuttle Challenger disaster. |\n",
    "| risk-analysis | text-completion | erform a risk analysis using the likelihood and severity of a possible event. Describe the factors contributing to the likelihood and severity of the event along with possible outcomes. |\n",
    "| risk-report | text-completion | Write a report using a risk analysis for a possible event. The audience for the report are executive decision makers. |\n"
   ]
  },
  {
   "cell_type": "code",
   "execution_count": 1,
   "id": "cf1909b0-26a1-432a-9567-e0e053855c0c",
   "metadata": {},
   "outputs": [],
   "source": [
    "import requests\n",
    "import json"
   ]
  },
  {
   "cell_type": "code",
   "execution_count": 2,
   "id": "cc04aa5a-c0fc-4405-809e-3323b2395394",
   "metadata": {},
   "outputs": [],
   "source": [
    "# ID of flow\n",
    "flow = \"default\"\n",
    "base_url = \"http://localhost:8088\""
   ]
  },
  {
   "cell_type": "code",
   "execution_count": 3,
   "id": "e3198f2d-1f32-48ed-8352-9ac4de819577",
   "metadata": {},
   "outputs": [],
   "source": [
    "# URL of the TrustGraph agent API\n",
    "url = f\"{base_url}/api/v1/flow/{flow}/service/agent\""
   ]
  },
  {
   "cell_type": "code",
   "execution_count": 4,
   "id": "db3fc683-902a-4225-90b4-f4b6ac33a237",
   "metadata": {},
   "outputs": [],
   "source": [
    "# The input consists of just a question\n",
    "input = {\n",
    "    \"question\": \"What is the highest risk aspect of running a space shuttle program?  Provide 5 detailed reasons to justify our answer.\",\n",
    "}"
   ]
  },
  {
   "cell_type": "code",
   "execution_count": 5,
   "id": "c8390dcb-607c-46b3-b0bb-d8f9fd818400",
   "metadata": {},
   "outputs": [],
   "source": [
    "# Invoke the API, input is passed as JSON\n",
    "resp = requests.post(url, json=input)"
   ]
  },
  {
   "cell_type": "code",
   "execution_count": 6,
   "id": "4148bf54-07e4-4e26-8197-9f082f8fe11b",
   "metadata": {},
   "outputs": [
    {
     "data": {
      "text/plain": [
       "200"
      ]
     },
     "execution_count": 6,
     "metadata": {},
     "output_type": "execute_result"
    }
   ],
   "source": [
    "# Should be a 200 status code\n",
    "resp.status_code"
   ]
  },
  {
   "cell_type": "code",
   "execution_count": 7,
   "id": "b99f3bef-00e6-4bdf-ac7d-52cceb60ae29",
   "metadata": {},
   "outputs": [],
   "source": [
    "# Parse the response as JSON\n",
    "object = resp.json()"
   ]
  },
  {
   "cell_type": "code",
   "execution_count": 8,
   "id": "f22c39ab-ee57-42b4-b278-ea35dd72bf22",
   "metadata": {},
   "outputs": [
    {
     "name": "stdout",
     "output_type": "stream",
     "text": [
      "The Space Shuttle Main Engine (SSME) was the highest risk aspect of the Space Shuttle Program due to the following reasons:\n",
      "\n",
      "1. **Extreme Operating Conditions and Tight Margins:** The SSMEs operated at incredibly high pressures and temperatures, pushing materials and designs to their limits. Any slight deviation could lead to catastrophic failure.\n",
      "\n",
      "2. **Complexity and Advanced Technology:** The engine's complex design and use of cutting-edge technology increased the likelihood of component failure and made troubleshooting difficult.\n",
      "\n",
      "3. **Reusability Challenges and Maintenance Burden:** The requirement for reusability led to extensive inspections, refurbishment, and testing after each flight, which was time-consuming, expensive, and required highly skilled technicians. The engines were still susceptible to unexpected failures due to repeated use.\n",
      "\n",
      "4. **Turbopump Vulnerability:** The high-pressure turbopumps used to deliver fuel and oxidizer operated at extremely high speeds and pressures, making them prone to cracking, bearing failures, and other problems. A turbopump failure could lead to a rapid loss of engine power.\n",
      "\n",
      "5. **Hydrogen Embrittlement:** The use of liquid hydrogen as fuel introduced the risk of hydrogen embrittlement, where hydrogen atoms penetrate the metal structure of engine components, making them more brittle and susceptible to cracking.\n"
     ]
    }
   ],
   "source": [
    "# The response contains an answer field containing the answer\n",
    "print(object[\"answer\"])"
   ]
  },
  {
   "cell_type": "code",
   "execution_count": null,
   "id": "431007ff-ee98-4440-a265-b26c9b6d6c26",
   "metadata": {},
   "outputs": [],
   "source": []
  }
 ],
 "metadata": {
  "kernelspec": {
   "display_name": "Python 3 (ipykernel)",
   "language": "python",
   "name": "python3"
  },
  "language_info": {
   "codemirror_mode": {
    "name": "ipython",
    "version": 3
   },
   "file_extension": ".py",
   "mimetype": "text/x-python",
   "name": "python",
   "nbconvert_exporter": "python",
   "pygments_lexer": "ipython3",
   "version": "3.13.3"
  }
 },
 "nbformat": 4,
 "nbformat_minor": 5
}
