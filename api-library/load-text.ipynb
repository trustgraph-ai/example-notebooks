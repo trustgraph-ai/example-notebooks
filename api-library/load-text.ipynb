{
 "cells": [
  {
   "cell_type": "code",
   "execution_count": 1,
   "id": "1bda3091-d96a-4f12-a1c5-ed26efd0b0b1",
   "metadata": {},
   "outputs": [
    {
     "name": "stdout",
     "output_type": "stream",
     "text": [
      "Requirement already satisfied: trustgraph-base in /home/mark/work/trustgraph.ai/example-notebooks/env/lib64/python3.12/site-packages (0.16.4)\n",
      "Requirement already satisfied: pulsar-client in /home/mark/work/trustgraph.ai/example-notebooks/env/lib64/python3.12/site-packages (from trustgraph-base) (3.5.0)\n",
      "Requirement already satisfied: prometheus-client in /home/mark/work/trustgraph.ai/example-notebooks/env/lib64/python3.12/site-packages (from trustgraph-base) (0.21.0)\n",
      "Requirement already satisfied: certifi in /home/mark/work/trustgraph.ai/example-notebooks/env/lib64/python3.12/site-packages (from pulsar-client->trustgraph-base) (2024.8.30)\n",
      "\n",
      "\u001b[1m[\u001b[0m\u001b[34;49mnotice\u001b[0m\u001b[1;39;49m]\u001b[0m\u001b[39;49m A new release of pip is available: \u001b[0m\u001b[31;49m24.2\u001b[0m\u001b[39;49m -> \u001b[0m\u001b[32;49m24.3.1\u001b[0m\n",
      "\u001b[1m[\u001b[0m\u001b[34;49mnotice\u001b[0m\u001b[1;39;49m]\u001b[0m\u001b[39;49m To update, run: \u001b[0m\u001b[32;49mpip install --upgrade pip\u001b[0m\n"
     ]
    }
   ],
   "source": [
    "!pip install trustgraph-base"
   ]
  },
  {
   "cell_type": "code",
   "execution_count": 2,
   "id": "950f160f-ef1e-4474-99f0-eccd1ef19269",
   "metadata": {},
   "outputs": [],
   "source": [
    "import trustgraph.api as tg\n",
    "from trustgraph.knowledge import DigitalDocument, Organization\n",
    "from trustgraph.knowledge import PublicationEvent, hash, to_uri\n",
    "from trustgraph.knowledge import PREF_PUBEV, PREF_ORG, PREF_DOC"
   ]
  },
  {
   "cell_type": "code",
   "execution_count": 3,
   "id": "c774e6d5-0f4a-4097-a834-d532df58a1b3",
   "metadata": {},
   "outputs": [],
   "source": [
    "# Open a text document from this repo.  PDFs are binary blobs\n",
    "text = open(\"../sources/README.cats\", \"rb\").read()"
   ]
  },
  {
   "cell_type": "code",
   "execution_count": 4,
   "id": "93a96202-1394-4689-a87f-a6d4101d267e",
   "metadata": {},
   "outputs": [],
   "source": [
    "cli = tg.Api()"
   ]
  },
  {
   "cell_type": "code",
   "execution_count": 5,
   "id": "363b05c9-2cd2-4989-9265-266a823bb770",
   "metadata": {},
   "outputs": [],
   "source": [
    "org_id = to_uri(PREF_ORG, \"3c35111a-f8ce-54b2-4dd6-c673f8bf0d09\")\n",
    "doc_id = to_uri(PREF_DOC, \"4faa45c1-f91a-a96a-d44f-2e57b9813db8\")\n",
    "pub_id = to_uri(PREF_PUBEV, \"a847d950-a281-4099-aaab-c5e35333ff61\")"
   ]
  },
  {
   "cell_type": "code",
   "execution_count": 6,
   "id": "d3a71624-eac3-4678-9348-ec13a910b3a6",
   "metadata": {},
   "outputs": [],
   "source": [
    "org = Organization(\n",
    "    id = org_id,\n",
    "    name = \"trustgraph.ai\",\n",
    ")\n",
    "\n",
    "pubev = PublicationEvent(\n",
    "    id = pub_id,\n",
    "    description = \"Uploading to Github\",\n",
    "    start_date = \"2024-10-23\",\n",
    "    end_date = \"2024-10-23\",\n",
    "    organization = org,\n",
    ")\n",
    "\n",
    "doc = DigitalDocument(\n",
    "    id = doc_id,\n",
    "    name = \"Mark's cats\",\n",
    "    description = \"This document describes Mark's cats\",\n",
    "    copyright_holder = \"trustgraph.ai\",\n",
    "    copyright_notice = \"Public domain\",\n",
    "    copyright_year = \"2024\",\n",
    "    keywords = [\"animals\", \"cats\", \"home-life\"],\n",
    "    publication = pubev,\n",
    "    url = \"https://example.com\",\n",
    ")"
   ]
  },
  {
   "cell_type": "code",
   "execution_count": 7,
   "id": "3f0c9cce-7530-4731-92a7-032dc3d8a2d2",
   "metadata": {},
   "outputs": [],
   "source": [
    "cli.load_text(text, doc_id, doc)"
   ]
  },
  {
   "cell_type": "code",
   "execution_count": null,
   "id": "ada9301e-cff2-4c02-bb6c-ef00528e9523",
   "metadata": {},
   "outputs": [],
   "source": []
  }
 ],
 "metadata": {
  "kernelspec": {
   "display_name": "Python 3 (ipykernel)",
   "language": "python",
   "name": "python3"
  },
  "language_info": {
   "codemirror_mode": {
    "name": "ipython",
    "version": 3
   },
   "file_extension": ".py",
   "mimetype": "text/x-python",
   "name": "python",
   "nbconvert_exporter": "python",
   "pygments_lexer": "ipython3",
   "version": "3.12.10"
  }
 },
 "nbformat": 4,
 "nbformat_minor": 5
}
