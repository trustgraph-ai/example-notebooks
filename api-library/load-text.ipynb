{
 "cells": [
  {
   "cell_type": "markdown",
   "id": "422bf214-e811-4ec5-9805-50b7661f899d",
   "metadata": {},
   "source": [
    "# Loading a document\n",
    "\n",
    "This notebook demonstrates the use of the TrustGraph librarian API to submit text for processing.\n",
    "\n",
    "The API optionally allows extra arbitrary metadata to be submitted with the document which is associated with the document and added to the triple store.  In this example, we add metadata in a form structured in line with schema.org Organization, PublicationEvent and Document schemas.\n",
    "\n",
    "The additional metadata is optional, the metadata element can be ignored.  However, if additional metadata is known, it can be integrated with TrustGraph processing.\n",
    "\n",
    "This particular processing uses the following API calls:\n",
    "- Load a document into the library\n",
    "- Create a new flow\n",
    "- Submit the document for processing in that flow\n",
    "\n",
    "This will fail if the document, flow and flow submission already exist, so don't execute this notebook more than once."
   ]
  },
  {
   "cell_type": "code",
   "execution_count": 1,
   "id": "1bda3091-d96a-4f12-a1c5-ed26efd0b0b1",
   "metadata": {},
   "outputs": [
    {
     "name": "stdout",
     "output_type": "stream",
     "text": [
      "Requirement already satisfied: trustgraph-base in /home/mark/work/trustgraph.ai/example-notebooks/env/lib64/python3.12/site-packages (1.0.9)\n",
      "Requirement already satisfied: pulsar-client in /home/mark/work/trustgraph.ai/example-notebooks/env/lib64/python3.12/site-packages (from trustgraph-base) (3.5.0)\n",
      "Requirement already satisfied: prometheus-client in /home/mark/work/trustgraph.ai/example-notebooks/env/lib64/python3.12/site-packages (from trustgraph-base) (0.21.0)\n",
      "Requirement already satisfied: certifi in /home/mark/work/trustgraph.ai/example-notebooks/env/lib64/python3.12/site-packages (from pulsar-client->trustgraph-base) (2024.8.30)\n",
      "\n",
      "\u001b[1m[\u001b[0m\u001b[34;49mnotice\u001b[0m\u001b[1;39;49m]\u001b[0m\u001b[39;49m A new release of pip is available: \u001b[0m\u001b[31;49m24.2\u001b[0m\u001b[39;49m -> \u001b[0m\u001b[32;49m25.1.1\u001b[0m\n",
      "\u001b[1m[\u001b[0m\u001b[34;49mnotice\u001b[0m\u001b[1;39;49m]\u001b[0m\u001b[39;49m To update, run: \u001b[0m\u001b[32;49mpip install --upgrade pip\u001b[0m\n"
     ]
    }
   ],
   "source": [
    "!pip install trustgraph-base"
   ]
  },
  {
   "cell_type": "code",
   "execution_count": 2,
   "id": "950f160f-ef1e-4474-99f0-eccd1ef19269",
   "metadata": {},
   "outputs": [],
   "source": [
    "import trustgraph.api as tg\n",
    "from trustgraph.knowledge import DigitalDocument, Organization\n",
    "from trustgraph.knowledge import PublicationEvent, hash, to_uri\n",
    "from trustgraph.knowledge import PREF_PUBEV, PREF_ORG, PREF_DOC"
   ]
  },
  {
   "cell_type": "code",
   "execution_count": 3,
   "id": "c774e6d5-0f4a-4097-a834-d532df58a1b3",
   "metadata": {},
   "outputs": [],
   "source": [
    "# Open a text document from this repo.  PDFs are binary blobs\n",
    "text = open(\"../sources/README.cats\", \"r\").read()\n",
    "\n",
    "title = \"Mark's cats\""
   ]
  },
  {
   "cell_type": "code",
   "execution_count": 4,
   "id": "93a96202-1394-4689-a87f-a6d4101d267e",
   "metadata": {},
   "outputs": [],
   "source": [
    "cli = tg.Api()"
   ]
  },
  {
   "cell_type": "code",
   "execution_count": 5,
   "id": "363b05c9-2cd2-4989-9265-266a823bb770",
   "metadata": {},
   "outputs": [],
   "source": [
    "org_id = to_uri(PREF_ORG, \"3c35111a-f8ce-54b2-4dd6-c673f8bf0d09\")\n",
    "doc_id = to_uri(PREF_DOC, \"4faa45c1-f91a-a96a-d44f-2e57b9813db8\")\n",
    "pub_id = to_uri(PREF_PUBEV, \"a847d950-a281-4099-aaab-c5e35333ff61\")"
   ]
  },
  {
   "cell_type": "code",
   "execution_count": 6,
   "id": "d3a71624-eac3-4678-9348-ec13a910b3a6",
   "metadata": {},
   "outputs": [],
   "source": [
    "org = Organization(\n",
    "    id = org_id,\n",
    "    name = \"trustgraph.ai\",\n",
    ")\n",
    "\n",
    "pubev = PublicationEvent(\n",
    "    id = pub_id,\n",
    "    description = \"Uploading to Github\",\n",
    "    start_date = \"2024-10-23\",\n",
    "    end_date = \"2024-10-23\",\n",
    "    organization = org,\n",
    ")\n",
    "\n",
    "doc = DigitalDocument(\n",
    "    id = doc_id,\n",
    "    name = \"Mark's cats\",\n",
    "    description = \"This document describes Mark's cats\",\n",
    "    copyright_holder = \"trustgraph.ai\",\n",
    "    copyright_notice = \"Public domain\",\n",
    "    copyright_year = \"2024\",\n",
    "    keywords = [\"animals\", \"cats\", \"home-life\"],\n",
    "    publication = pubev,\n",
    "    url = \"https://example.com\",\n",
    ")"
   ]
  },
  {
   "cell_type": "code",
   "execution_count": 7,
   "id": "3f0c9cce-7530-4731-92a7-032dc3d8a2d2",
   "metadata": {},
   "outputs": [],
   "source": [
    "resp = cli.library().add_document(\n",
    "    document = text.encode(\"utf-8\"),\n",
    "    id = doc_id,\n",
    "    metadata = doc,\n",
    "    user = \"trustgraph\",\n",
    "    title = title,\n",
    "    comments = \"A test data document\",\n",
    "    kind = \"application/pdf\",\n",
    "    tags = [ \"cats\", \"pets\" ]\n",
    ")"
   ]
  },
  {
   "cell_type": "markdown",
   "id": "b61c4fad-fb13-4aca-806f-c410b4fc9287",
   "metadata": {},
   "source": [
    "# Start a flow"
   ]
  },
  {
   "cell_type": "code",
   "execution_count": 8,
   "id": "796f9ca1-befd-444a-b5e5-f6c5f2ab6200",
   "metadata": {},
   "outputs": [],
   "source": [
    "cli.flow().start(\n",
    "    class_name = \"document-rag+graph-rag\", \n",
    "    id = \"my-flow\",\n",
    "    description = \"My new flow\",\n",
    ")"
   ]
  },
  {
   "cell_type": "markdown",
   "id": "7a1bacad-2488-4564-a093-d1230276d91d",
   "metadata": {},
   "source": [
    "# Submit document for processing"
   ]
  },
  {
   "cell_type": "code",
   "execution_count": 9,
   "id": "9c26a3c8-8625-4b57-9dbc-432154fa47df",
   "metadata": {},
   "outputs": [
    {
     "data": {
      "text/plain": [
       "{}"
      ]
     },
     "execution_count": 9,
     "metadata": {},
     "output_type": "execute_result"
    }
   ],
   "source": [
    "cli.library().start_processing(\n",
    "    id = \"proc01\",\n",
    "    document_id = doc_id,\n",
    "    flow = \"my-flow\",\n",
    "    user = \"trustgraph\",\n",
    "    collection = \"default\",\n",
    "    tags = [ \"my document\", \"processing test\" ]\n",
    ")"
   ]
  },
  {
   "cell_type": "code",
   "execution_count": null,
   "id": "6d1b7038-e266-4fc6-9d38-935c1a60cb12",
   "metadata": {},
   "outputs": [],
   "source": []
  }
 ],
 "metadata": {
  "kernelspec": {
   "display_name": "Python 3 (ipykernel)",
   "language": "python",
   "name": "python3"
  },
  "language_info": {
   "codemirror_mode": {
    "name": "ipython",
    "version": 3
   },
   "file_extension": ".py",
   "mimetype": "text/x-python",
   "name": "python",
   "nbconvert_exporter": "python",
   "pygments_lexer": "ipython3",
   "version": "3.12.10"
  }
 },
 "nbformat": 4,
 "nbformat_minor": 5
}
