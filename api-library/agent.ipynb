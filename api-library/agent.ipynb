{
 "cells": [
  {
   "cell_type": "code",
   "execution_count": 1,
   "id": "950f160f-ef1e-4474-99f0-eccd1ef19269",
   "metadata": {},
   "outputs": [],
   "source": [
    "import trustgraph.api as tg"
   ]
  },
  {
   "cell_type": "code",
   "execution_count": 2,
   "id": "93a96202-1394-4689-a87f-a6d4101d267e",
   "metadata": {},
   "outputs": [],
   "source": [
    "cli = tg.Api()"
   ]
  },
  {
   "cell_type": "code",
   "execution_count": 3,
   "id": "363b05c9-2cd2-4989-9265-266a823bb770",
   "metadata": {},
   "outputs": [],
   "source": [
    "resp = cli.agent(\"What is the highest risk aspect of running a space shuttle program?  Provide 5 detailed reasons to justify our answer.\")"
   ]
  },
  {
   "cell_type": "code",
   "execution_count": 4,
   "id": "3f0c9cce-7530-4731-92a7-032dc3d8a2d2",
   "metadata": {},
   "outputs": [
    {
     "name": "stdout",
     "output_type": "stream",
     "text": [
      "The highest risk aspect of running a space shuttle program is **the failure of critical components due to design flaws, inadequate testing, or insufficient safety margins.** This risk is amplified by the inherent complexity of the system and the high stakes involved.  Five detailed reasons justifying this assessment are:\n",
      "\n",
      "1. **Component Failure Cascade:** Space shuttles are incredibly complex systems with numerous interconnected components. A failure in one area can trigger a cascade of failures, leading to catastrophic consequences. The Challenger disaster perfectly illustrates this; the failure of O-rings in the solid rocket boosters initiated a chain reaction that ultimately destroyed the shuttle.\n",
      "\n",
      "2. **Inadequate Testing and Verification:**  Thorough testing and verification of all components and systems are crucial to ensure safety. However, cost pressures and time constraints can lead to shortcuts in testing, increasing the likelihood of undiscovered flaws. The Challenger disaster highlighted the insufficient testing of the O-rings at low temperatures.\n",
      "\n",
      "3. **Human Error:** Human error plays a significant role in accidents. This includes errors in design, manufacturing, assembly, operation, and decision-making.  The Challenger disaster involved a complex interplay of human errors, including the decision to launch despite concerns about the O-rings.\n",
      "\n",
      "4. **Unforeseen Environmental Factors:**  Spaceflight involves extreme environmental conditions that can stress components beyond their design limits.  Unexpected events, such as unusually cold temperatures (as in the Challenger case), can exacerbate existing weaknesses and lead to failure.\n",
      "\n",
      "5. **Complexity and Interdependence:** The sheer complexity of the space shuttle system and the interdependence of its various components make it difficult to fully understand and mitigate all potential risks.  Identifying and addressing all possible failure modes is a monumental task, and even with rigorous testing, unforeseen interactions can lead to unexpected failures.\n"
     ]
    }
   ],
   "source": [
    "print(resp)"
   ]
  },
  {
   "cell_type": "code",
   "execution_count": null,
   "id": "ada9301e-cff2-4c02-bb6c-ef00528e9523",
   "metadata": {},
   "outputs": [],
   "source": []
  }
 ],
 "metadata": {
  "kernelspec": {
   "display_name": "Python 3 (ipykernel)",
   "language": "python",
   "name": "python3"
  },
  "language_info": {
   "codemirror_mode": {
    "name": "ipython",
    "version": 3
   },
   "file_extension": ".py",
   "mimetype": "text/x-python",
   "name": "python",
   "nbconvert_exporter": "python",
   "pygments_lexer": "ipython3",
   "version": "3.13.0"
  }
 },
 "nbformat": 4,
 "nbformat_minor": 5
}
