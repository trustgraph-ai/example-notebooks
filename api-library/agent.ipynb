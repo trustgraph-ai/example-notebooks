{
 "cells": [
  {
   "cell_type": "code",
   "execution_count": 1,
   "id": "950f160f-ef1e-4474-99f0-eccd1ef19269",
   "metadata": {},
   "outputs": [],
   "source": [
    "import trustgraph.api as tg"
   ]
  },
  {
   "cell_type": "code",
   "execution_count": 2,
   "id": "175d263a-592d-4c24-80f9-96787492d5ee",
   "metadata": {},
   "outputs": [],
   "source": [
    "# ID of flow\n",
    "flow = \"default\"\n",
    "base_url = \"http://localhost:8088\""
   ]
  },
  {
   "cell_type": "code",
   "execution_count": 3,
   "id": "93a96202-1394-4689-a87f-a6d4101d267e",
   "metadata": {},
   "outputs": [],
   "source": [
    "cli = tg.Api()"
   ]
  },
  {
   "cell_type": "code",
   "execution_count": 4,
   "id": "363b05c9-2cd2-4989-9265-266a823bb770",
   "metadata": {},
   "outputs": [],
   "source": [
    "resp = cli.flow().id(flow).agent(\"What is the highest risk aspect of running a space shuttle program?  Provide 5 detailed reasons to justify our answer.\")"
   ]
  },
  {
   "cell_type": "code",
   "execution_count": 5,
   "id": "3f0c9cce-7530-4731-92a7-032dc3d8a2d2",
   "metadata": {},
   "outputs": [
    {
     "name": "stdout",
     "output_type": "stream",
     "text": [
      "The highest risk aspect of running a space shuttle program is ascent. Here are 5 detailed reasons to justify this answer:\n",
      "\n",
      "1.  **Extreme Aerodynamic and Thermal Stresses:** The ascent phase involved transitioning from a stationary position to hypersonic speeds, subjecting the Shuttle to immense aerodynamic forces and heating. This created a narrow margin for error, where any deviation could lead to catastrophic failure.\n",
      "\n",
      "2.  **Solid Rocket Booster (SRB) Reliability and Joint Integrity:** The SRBs provided the majority of the thrust during ascent. Their segmented design and reliance on O-rings for sealing presented significant reliability challenges. A failure in the SRB joint seals could lead to a rapid and catastrophic loss of the Shuttle.\n",
      "\n",
      "3.  **Main Engine (SSME) Complexity and Performance:** The SSMEs were highly complex liquid-fueled rocket engines operating at extreme pressures and temperatures. A failure of one or more SSMEs during ascent could result in a mission abort or a catastrophic loss.\n",
      "\n",
      "4.  **External Tank (ET) Integrity and Debris Shedding:** The ET contained the propellants for the SSMEs. Its lightweight design made it susceptible to damage, and insulation shedding posed a threat to the Orbiter's Thermal Protection System (TPS). Debris shedding could lead to catastrophic damage, as seen in the Columbia disaster.\n",
      "\n",
      "5.  **Complex Flight Control System and Abort Scenarios:** The Shuttle's flight control system was highly complex, requiring precise coordination. The ascent phase involved numerous critical decisions and potential abort scenarios. A failure in the flight control system or an error in judgment could lead to a mission abort or a catastrophic loss. The abort scenarios themselves were inherently risky.\n"
     ]
    }
   ],
   "source": [
    "print(resp)"
   ]
  },
  {
   "cell_type": "code",
   "execution_count": null,
   "id": "ada9301e-cff2-4c02-bb6c-ef00528e9523",
   "metadata": {},
   "outputs": [],
   "source": []
  }
 ],
 "metadata": {
  "kernelspec": {
   "display_name": "Python 3 (ipykernel)",
   "language": "python",
   "name": "python3"
  },
  "language_info": {
   "codemirror_mode": {
    "name": "ipython",
    "version": 3
   },
   "file_extension": ".py",
   "mimetype": "text/x-python",
   "name": "python",
   "nbconvert_exporter": "python",
   "pygments_lexer": "ipython3",
   "version": "3.12.10"
  }
 },
 "nbformat": 4,
 "nbformat_minor": 5
}
