{
 "cells": [
  {
   "cell_type": "code",
   "execution_count": 1,
   "id": "950f160f-ef1e-4474-99f0-eccd1ef19269",
   "metadata": {},
   "outputs": [],
   "source": [
    "import trustgraph.api as tg"
   ]
  },
  {
   "cell_type": "code",
   "execution_count": 2,
   "id": "93a96202-1394-4689-a87f-a6d4101d267e",
   "metadata": {},
   "outputs": [],
   "source": [
    "cli = tg.Api()"
   ]
  },
  {
   "cell_type": "code",
   "execution_count": 3,
   "id": "363b05c9-2cd2-4989-9265-266a823bb770",
   "metadata": {},
   "outputs": [],
   "source": [
    "resp = cli.agent(\"What is the highest risk aspect of running a space shuttle program?  Provide 5 detailed reasons to justify our answer.\")"
   ]
  },
  {
   "cell_type": "code",
   "execution_count": 4,
   "id": "3f0c9cce-7530-4731-92a7-032dc3d8a2d2",
   "metadata": {},
   "outputs": [
    {
     "name": "stdout",
     "output_type": "stream",
     "text": [
      "The highest risk aspect of running a space shuttle program is **structural failure due to design flaws, inadequate testing, or insufficient maintenance.** This risk encompasses multiple interconnected factors that can lead to catastrophic consequences.  Five detailed reasons justifying this assessment are:\n",
      "\n",
      "1. **O-ring failure (as seen in Challenger):**  The Challenger disaster vividly demonstrated the catastrophic consequences of a seemingly minor design flaw (O-ring seals) exacerbated by cold weather.  This highlights the criticality of rigorous testing across a wide range of environmental conditions and the potential for unforeseen failures in complex systems.\n",
      "\n",
      "2. **Complex system interactions:** Space shuttles are incredibly complex systems with numerous interconnected components.  A failure in one area can trigger a cascade of failures in other areas, leading to unpredictable and potentially catastrophic outcomes.  Thorough testing and understanding of these interactions are crucial to mitigate this risk.\n",
      "\n",
      "3. **Human error:** Human error in design, manufacturing, maintenance, or operation can significantly increase the likelihood of failure.  This includes errors in judgment, oversight, communication breakdowns, and inadequate training.  Robust safety protocols, thorough checks, and effective communication are essential to minimize human error.\n",
      "\n",
      "4. **Unforeseen environmental factors:** Spaceflight exposes the shuttle to extreme environmental conditions (extreme temperatures, high pressure, radiation) that can stress components beyond their design limits.  Comprehensive testing and analysis are needed to ensure the shuttle's resilience in these conditions, accounting for potential unforeseen events.\n",
      "\n",
      "5. **Inadequate safety margins:**  The design and operation of a space shuttle must incorporate sufficient safety margins to account for unexpected events and potential failures.  Insufficient safety margins increase the likelihood of catastrophic failure even if individual components function within their design limits.  A robust safety culture that prioritizes risk mitigation is crucial.\n"
     ]
    }
   ],
   "source": [
    "print(resp)"
   ]
  },
  {
   "cell_type": "code",
   "execution_count": null,
   "id": "ada9301e-cff2-4c02-bb6c-ef00528e9523",
   "metadata": {},
   "outputs": [],
   "source": []
  }
 ],
 "metadata": {
  "kernelspec": {
   "display_name": "Python 3 (ipykernel)",
   "language": "python",
   "name": "python3"
  },
  "language_info": {
   "codemirror_mode": {
    "name": "ipython",
    "version": 3
   },
   "file_extension": ".py",
   "mimetype": "text/x-python",
   "name": "python",
   "nbconvert_exporter": "python",
   "pygments_lexer": "ipython3",
   "version": "3.12.7"
  }
 },
 "nbformat": 4,
 "nbformat_minor": 5
}
