{
 "cells": [
  {
   "cell_type": "code",
   "execution_count": 1,
   "id": "950f160f-ef1e-4474-99f0-eccd1ef19269",
   "metadata": {},
   "outputs": [
    {
     "name": "stdout",
     "output_type": "stream",
     "text": [
      "Requirement already satisfied: trustgraph-base in /home/mark/work/trustgraph.ai/example-notebooks/env/lib64/python3.12/site-packages (1.0.9)\n",
      "Requirement already satisfied: pulsar-client in /home/mark/work/trustgraph.ai/example-notebooks/env/lib64/python3.12/site-packages (from trustgraph-base) (3.5.0)\n",
      "Requirement already satisfied: prometheus-client in /home/mark/work/trustgraph.ai/example-notebooks/env/lib64/python3.12/site-packages (from trustgraph-base) (0.21.0)\n",
      "Requirement already satisfied: certifi in /home/mark/work/trustgraph.ai/example-notebooks/env/lib64/python3.12/site-packages (from pulsar-client->trustgraph-base) (2024.8.30)\n",
      "\n",
      "\u001b[1m[\u001b[0m\u001b[34;49mnotice\u001b[0m\u001b[1;39;49m]\u001b[0m\u001b[39;49m A new release of pip is available: \u001b[0m\u001b[31;49m24.2\u001b[0m\u001b[39;49m -> \u001b[0m\u001b[32;49m25.1.1\u001b[0m\n",
      "\u001b[1m[\u001b[0m\u001b[34;49mnotice\u001b[0m\u001b[1;39;49m]\u001b[0m\u001b[39;49m To update, run: \u001b[0m\u001b[32;49mpip install --upgrade pip\u001b[0m\n"
     ]
    }
   ],
   "source": [
    "!pip install --upgrade trustgraph-base"
   ]
  },
  {
   "cell_type": "code",
   "execution_count": 2,
   "id": "f1c409bf-9a75-49a1-aa64-815967008985",
   "metadata": {},
   "outputs": [],
   "source": [
    "from trustgraph.api import Api"
   ]
  },
  {
   "cell_type": "code",
   "execution_count": 3,
   "id": "5b8f41a1-9681-431e-970b-a37557efb61b",
   "metadata": {},
   "outputs": [],
   "source": [
    "# ID of flow\n",
    "flow = \"default\"\n",
    "base_url = \"http://localhost:8088\""
   ]
  },
  {
   "cell_type": "code",
   "execution_count": 4,
   "id": "93a96202-1394-4689-a87f-a6d4101d267e",
   "metadata": {},
   "outputs": [],
   "source": [
    "cli = Api(base_url)"
   ]
  },
  {
   "cell_type": "code",
   "execution_count": 5,
   "id": "363b05c9-2cd2-4989-9265-266a823bb770",
   "metadata": {},
   "outputs": [],
   "source": [
    "resp = cli.flow().id(flow).text_completion(\"Answer in French\", \"What is a llama?\")"
   ]
  },
  {
   "cell_type": "code",
   "execution_count": 6,
   "id": "3f0c9cce-7530-4731-92a7-032dc3d8a2d2",
   "metadata": {},
   "outputs": [
    {
     "name": "stdout",
     "output_type": "stream",
     "text": [
      "Un lama est un mammifère ruminant de la famille des camélidés, originaire d'Amérique du Sud. Il est souvent utilisé comme animal de bât et pour sa laine.\n",
      "\n"
     ]
    }
   ],
   "source": [
    "print(resp)"
   ]
  },
  {
   "cell_type": "code",
   "execution_count": null,
   "id": "ada9301e-cff2-4c02-bb6c-ef00528e9523",
   "metadata": {},
   "outputs": [],
   "source": []
  }
 ],
 "metadata": {
  "kernelspec": {
   "display_name": "Python 3 (ipykernel)",
   "language": "python",
   "name": "python3"
  },
  "language_info": {
   "codemirror_mode": {
    "name": "ipython",
    "version": 3
   },
   "file_extension": ".py",
   "mimetype": "text/x-python",
   "name": "python",
   "nbconvert_exporter": "python",
   "pygments_lexer": "ipython3",
   "version": "3.12.10"
  }
 },
 "nbformat": 4,
 "nbformat_minor": 5
}
