{
 "cells": [
  {
   "cell_type": "code",
   "execution_count": 1,
   "id": "950f160f-ef1e-4474-99f0-eccd1ef19269",
   "metadata": {},
   "outputs": [],
   "source": [
    "import trustgraph.api as tg"
   ]
  },
  {
   "cell_type": "code",
   "execution_count": 2,
   "id": "93a96202-1394-4689-a87f-a6d4101d267e",
   "metadata": {},
   "outputs": [],
   "source": [
    "cli = tg.Api()"
   ]
  },
  {
   "cell_type": "code",
   "execution_count": 3,
   "id": "363b05c9-2cd2-4989-9265-266a823bb770",
   "metadata": {},
   "outputs": [],
   "source": [
    "resp = cli.graph_rag(\"Give me 10 facts\")"
   ]
  },
  {
   "cell_type": "code",
   "execution_count": 4,
   "id": "3f0c9cce-7530-4731-92a7-032dc3d8a2d2",
   "metadata": {},
   "outputs": [
    {
     "name": "stdout",
     "output_type": "stream",
     "text": [
      "Here are 10 facts from the provided knowledge statements:\n",
      "\n",
      "1. The Space Shuttle Challenger accident interrupted productive engineering, scientific, and exploratory programs.\n",
      "2. NASA began the operational phase of the Space Shuttle program.\n",
      "3. NASA changed the method of numbering missions.\n",
      "4. Congress recognized the desirability of a single investigation into the Space Shuttle Challenger accident.\n",
      "5. The Commission held public hearings.\n",
      "6. The President appointed an independent Commission to investigate the Challenger accident.\n",
      "7. The Commission's mandate was to investigate the accident.\n",
      "8. The Commission's investigation and report were responsive to the President's request.\n",
      "9. The report concerning the Space Shuttle Challenger accident was submitted to the President.\n",
      "10. NASA estimated that it cost $6.2 billion to develop and test a five-Orbiter Space Shuttle system.\n",
      "\n"
     ]
    }
   ],
   "source": [
    "print(resp)"
   ]
  },
  {
   "cell_type": "code",
   "execution_count": null,
   "id": "ada9301e-cff2-4c02-bb6c-ef00528e9523",
   "metadata": {},
   "outputs": [],
   "source": []
  }
 ],
 "metadata": {
  "kernelspec": {
   "display_name": "Python 3 (ipykernel)",
   "language": "python",
   "name": "python3"
  },
  "language_info": {
   "codemirror_mode": {
    "name": "ipython",
    "version": 3
   },
   "file_extension": ".py",
   "mimetype": "text/x-python",
   "name": "python",
   "nbconvert_exporter": "python",
   "pygments_lexer": "ipython3",
   "version": "3.12.7"
  }
 },
 "nbformat": 4,
 "nbformat_minor": 5
}
