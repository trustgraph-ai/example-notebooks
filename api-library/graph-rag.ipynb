{
 "cells": [
  {
   "cell_type": "code",
   "execution_count": 1,
   "id": "950f160f-ef1e-4474-99f0-eccd1ef19269",
   "metadata": {},
   "outputs": [],
   "source": [
    "import trustgraph.api as tg"
   ]
  },
  {
   "cell_type": "code",
   "execution_count": 2,
   "id": "3c432997-dc3e-4bdb-8efd-87f56d0c4458",
   "metadata": {},
   "outputs": [],
   "source": [
    "# ID of flow\n",
    "flow = \"default\"\n",
    "base_url = \"http://localhost:8088\""
   ]
  },
  {
   "cell_type": "code",
   "execution_count": 3,
   "id": "93a96202-1394-4689-a87f-a6d4101d267e",
   "metadata": {},
   "outputs": [],
   "source": [
    "cli = tg.Api(base_url)"
   ]
  },
  {
   "cell_type": "code",
   "execution_count": 4,
   "id": "363b05c9-2cd2-4989-9265-266a823bb770",
   "metadata": {},
   "outputs": [],
   "source": [
    "resp = cli.flow().id(flow).graph_rag(\"Give me 10 facts\")"
   ]
  },
  {
   "cell_type": "code",
   "execution_count": 5,
   "id": "3f0c9cce-7530-4731-92a7-032dc3d8a2d2",
   "metadata": {},
   "outputs": [
    {
     "name": "stdout",
     "output_type": "stream",
     "text": [
      "1. Documents came from NASA.\n",
      "2. Martin Cioffoletti is the vice president of Space Transportation Systems Division.\n",
      "3. COMMISSION applauds NASA.\n",
      "4. NASA conducted tests.\n",
      "5. Neil A. Armstrong was an astronaut.\n",
      "6. NASA builds the Space Shuttle.\n",
      "7. Judith A. Resnik was a Mission specialist.\n",
      "8. NASA applies conservative flight rules.\n",
      "9. James Beggs works at NASA.\n",
      "10. NASA allotted $75 million.\n",
      "\n"
     ]
    }
   ],
   "source": [
    "print(resp)"
   ]
  },
  {
   "cell_type": "code",
   "execution_count": null,
   "id": "ada9301e-cff2-4c02-bb6c-ef00528e9523",
   "metadata": {},
   "outputs": [],
   "source": []
  }
 ],
 "metadata": {
  "kernelspec": {
   "display_name": "Python 3 (ipykernel)",
   "language": "python",
   "name": "python3"
  },
  "language_info": {
   "codemirror_mode": {
    "name": "ipython",
    "version": 3
   },
   "file_extension": ".py",
   "mimetype": "text/x-python",
   "name": "python",
   "nbconvert_exporter": "python",
   "pygments_lexer": "ipython3",
   "version": "3.12.10"
  }
 },
 "nbformat": 4,
 "nbformat_minor": 5
}
