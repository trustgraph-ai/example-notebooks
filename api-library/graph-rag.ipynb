{
 "cells": [
  {
   "cell_type": "code",
   "execution_count": 1,
   "id": "950f160f-ef1e-4474-99f0-eccd1ef19269",
   "metadata": {},
   "outputs": [],
   "source": [
    "import trustgraph.api as tg"
   ]
  },
  {
   "cell_type": "code",
   "execution_count": 2,
   "id": "93a96202-1394-4689-a87f-a6d4101d267e",
   "metadata": {},
   "outputs": [],
   "source": [
    "cli = tg.Api()"
   ]
  },
  {
   "cell_type": "code",
   "execution_count": 3,
   "id": "363b05c9-2cd2-4989-9265-266a823bb770",
   "metadata": {},
   "outputs": [],
   "source": [
    "resp = cli.graph_rag(\"Give me 10 facts\")"
   ]
  },
  {
   "cell_type": "code",
   "execution_count": 4,
   "id": "3f0c9cce-7530-4731-92a7-032dc3d8a2d2",
   "metadata": {},
   "outputs": [
    {
     "name": "stdout",
     "output_type": "stream",
     "text": [
      "Here are 10 facts from the provided knowledge statements:\n",
      "\n",
      "1. The Challenger Report Volume 1 is the subject of sworn statements.\n",
      "2. The Commission questioned a large number of other witnesses.\n",
      "3. The Commission believes the crew should have escape means.\n",
      "4. The External Tank provided substantial performance loss.\n",
      "5. The Commission believes NASA and the Air Force should critically re-examine whether the destruct package on the External Tank might be removed.\n",
      "6. The Commission collected tens of thousands of pages of technical information, hearing transcripts, witness interviews, and correspondence.\n",
      "7. The February 13, 1986, session provided the first evidence that the Solid Rocket Motor joint and seal may have malfunctioned.\n",
      "8. The Commission adopted Recommendations.\n",
      "9. The payload safety program is a program to ensure the safety of payloads, and its potential impact on 1986 Centaur missions is discussed.\n",
      "10.  The Commission believes the severe cold and presence of so much ice made it inadvisable to launch.\n",
      "\n"
     ]
    }
   ],
   "source": [
    "print(resp)"
   ]
  },
  {
   "cell_type": "code",
   "execution_count": null,
   "id": "ada9301e-cff2-4c02-bb6c-ef00528e9523",
   "metadata": {},
   "outputs": [],
   "source": []
  }
 ],
 "metadata": {
  "kernelspec": {
   "display_name": "Python 3 (ipykernel)",
   "language": "python",
   "name": "python3"
  },
  "language_info": {
   "codemirror_mode": {
    "name": "ipython",
    "version": 3
   },
   "file_extension": ".py",
   "mimetype": "text/x-python",
   "name": "python",
   "nbconvert_exporter": "python",
   "pygments_lexer": "ipython3",
   "version": "3.13.0"
  }
 },
 "nbformat": 4,
 "nbformat_minor": 5
}
