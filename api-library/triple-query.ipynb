{
 "cells": [
  {
   "cell_type": "code",
   "execution_count": 1,
   "id": "950f160f-ef1e-4474-99f0-eccd1ef19269",
   "metadata": {},
   "outputs": [],
   "source": [
    "import trustgraph.api as tg"
   ]
  },
  {
   "cell_type": "code",
   "execution_count": 2,
   "id": "93a96202-1394-4689-a87f-a6d4101d267e",
   "metadata": {},
   "outputs": [],
   "source": [
    "cli = tg.Api()"
   ]
  },
  {
   "cell_type": "code",
   "execution_count": 3,
   "id": "363b05c9-2cd2-4989-9265-266a823bb770",
   "metadata": {},
   "outputs": [],
   "source": [
    "resp = cli.triples_query(p=\"http://www.w3.org/2000/01/rdf-schema#label\", limit=10)"
   ]
  },
  {
   "cell_type": "code",
   "execution_count": 4,
   "id": "3f0c9cce-7530-4731-92a7-032dc3d8a2d2",
   "metadata": {},
   "outputs": [
    {
     "name": "stdout",
     "output_type": "stream",
     "text": [
      "http://trustgraph.ai/e/transition-of-qualified-astronauts-into-agency-management-positions http://www.w3.org/2000/01/rdf-schema#label transition of qualified astronauts into agency management positions\n",
      "http://trustgraph.ai/e/gap-openings http://www.w3.org/2000/01/rdf-schema#label gap openings\n",
      "http://trustgraph.ai/e/gap-dimensions http://www.w3.org/2000/01/rdf-schema#label gap dimensions\n",
      "http://trustgraph.ai/e/relevant-materials http://www.w3.org/2000/01/rdf-schema#label relevant materials\n",
      "http://trustgraph.ai/e/to-the-equipment-support-structure-carrier http://www.w3.org/2000/01/rdf-schema#label to the equipment support structure carrier\n",
      "http://trustgraph.ai/e/shaped-charge http://www.w3.org/2000/01/rdf-schema#label shaped charge\n",
      "http://trustgraph.ai/e/have-contact-with http://www.w3.org/2000/01/rdf-schema#label have contact with\n",
      "http://trustgraph.ai/e/flight-15 http://www.w3.org/2000/01/rdf-schema#label Flight 15\n",
      "http://trustgraph.ai/e/flight-15 http://www.w3.org/2000/01/rdf-schema#label flight 15\n",
      "http://trustgraph.ai/e/composite-view http://www.w3.org/2000/01/rdf-schema#label composite view\n"
     ]
    }
   ],
   "source": [
    "for t in resp:\n",
    "    print(t.s, t.p, t.o)"
   ]
  },
  {
   "cell_type": "code",
   "execution_count": null,
   "id": "ada9301e-cff2-4c02-bb6c-ef00528e9523",
   "metadata": {},
   "outputs": [],
   "source": []
  }
 ],
 "metadata": {
  "kernelspec": {
   "display_name": "Python 3 (ipykernel)",
   "language": "python",
   "name": "python3"
  },
  "language_info": {
   "codemirror_mode": {
    "name": "ipython",
    "version": 3
   },
   "file_extension": ".py",
   "mimetype": "text/x-python",
   "name": "python",
   "nbconvert_exporter": "python",
   "pygments_lexer": "ipython3",
   "version": "3.13.0"
  }
 },
 "nbformat": 4,
 "nbformat_minor": 5
}
