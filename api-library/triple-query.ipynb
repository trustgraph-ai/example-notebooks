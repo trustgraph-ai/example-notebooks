{
 "cells": [
  {
   "cell_type": "code",
   "execution_count": 1,
   "id": "950f160f-ef1e-4474-99f0-eccd1ef19269",
   "metadata": {},
   "outputs": [],
   "source": [
    "import trustgraph.api as tg\n",
    "from trustgraph.api import Uri, Literal"
   ]
  },
  {
   "cell_type": "code",
   "execution_count": 2,
   "id": "5dc1c1d1-96e5-4a32-a9da-3b002269eb61",
   "metadata": {},
   "outputs": [],
   "source": [
    "# ID of flow\n",
    "flow = \"default\"\n",
    "base_url = \"http://localhost:8088\""
   ]
  },
  {
   "cell_type": "code",
   "execution_count": 3,
   "id": "93a96202-1394-4689-a87f-a6d4101d267e",
   "metadata": {},
   "outputs": [],
   "source": [
    "cli = tg.Api(base_url)"
   ]
  },
  {
   "cell_type": "code",
   "execution_count": 4,
   "id": "363b05c9-2cd2-4989-9265-266a823bb770",
   "metadata": {},
   "outputs": [],
   "source": [
    "resp = cli.flow().id(flow).triples_query(p=Uri(\"http://www.w3.org/2000/01/rdf-schema#label\"), limit=10)"
   ]
  },
  {
   "cell_type": "code",
   "execution_count": 5,
   "id": "3f0c9cce-7530-4731-92a7-032dc3d8a2d2",
   "metadata": {},
   "outputs": [
    {
     "name": "stdout",
     "output_type": "stream",
     "text": [
      "http://trustgraph.ai/e/enveloped http://www.w3.org/2000/01/rdf-schema#label enveloped\n",
      "http://trustgraph.ai/e/gap-openings http://www.w3.org/2000/01/rdf-schema#label gap openings\n",
      "http://trustgraph.ai/e/flight-15 http://www.w3.org/2000/01/rdf-schema#label Flight 15\n",
      "http://trustgraph.ai/e/challenger%27s-liquid-fueled-main-engines http://www.w3.org/2000/01/rdf-schema#label Challenger's liquid fueled main engines\n",
      "http://trustgraph.ai/e/j-j-neilon http://www.w3.org/2000/01/rdf-schema#label J J NeIlOn\n",
      "http://trustgraph.ai/e/was-repaired http://www.w3.org/2000/01/rdf-schema#label was repaired\n",
      "http://trustgraph.ai/e/sealing-threshold http://www.w3.org/2000/01/rdf-schema#label SEALING THRESHOLD\n",
      "http://trustgraph.ai/e/to-concern http://www.w3.org/2000/01/rdf-schema#label to concern\n",
      "http://trustgraph.ai/e/orbiter-umbilical http://www.w3.org/2000/01/rdf-schema#label Orbiter umbilical\n",
      "http://trustgraph.ai/e/visible http://www.w3.org/2000/01/rdf-schema#label visible\n"
     ]
    }
   ],
   "source": [
    "for t in resp:\n",
    "    print(t.s, t.p, t.o)"
   ]
  },
  {
   "cell_type": "code",
   "execution_count": null,
   "id": "ada9301e-cff2-4c02-bb6c-ef00528e9523",
   "metadata": {},
   "outputs": [],
   "source": []
  }
 ],
 "metadata": {
  "kernelspec": {
   "display_name": "Python 3 (ipykernel)",
   "language": "python",
   "name": "python3"
  },
  "language_info": {
   "codemirror_mode": {
    "name": "ipython",
    "version": 3
   },
   "file_extension": ".py",
   "mimetype": "text/x-python",
   "name": "python",
   "nbconvert_exporter": "python",
   "pygments_lexer": "ipython3",
   "version": "3.12.10"
  }
 },
 "nbformat": 4,
 "nbformat_minor": 5
}
