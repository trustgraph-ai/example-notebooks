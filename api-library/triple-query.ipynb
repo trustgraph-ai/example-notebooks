{
 "cells": [
  {
   "cell_type": "code",
   "execution_count": 1,
   "id": "950f160f-ef1e-4474-99f0-eccd1ef19269",
   "metadata": {},
   "outputs": [],
   "source": [
    "import trustgraph.api as tg"
   ]
  },
  {
   "cell_type": "code",
   "execution_count": 2,
   "id": "93a96202-1394-4689-a87f-a6d4101d267e",
   "metadata": {},
   "outputs": [],
   "source": [
    "cli = tg.Api()"
   ]
  },
  {
   "cell_type": "code",
   "execution_count": 3,
   "id": "363b05c9-2cd2-4989-9265-266a823bb770",
   "metadata": {},
   "outputs": [],
   "source": [
    "resp = cli.triples_query(p=\"http://www.w3.org/2000/01/rdf-schema#label\", limit=10)"
   ]
  },
  {
   "cell_type": "code",
   "execution_count": 4,
   "id": "3f0c9cce-7530-4731-92a7-032dc3d8a2d2",
   "metadata": {},
   "outputs": [
    {
     "name": "stdout",
     "output_type": "stream",
     "text": [
      "http://trustgraph.ai/e/possibilities http://www.w3.org/2000/01/rdf-schema#label possibilities\n",
      "http://trustgraph.ai/e/involving http://www.w3.org/2000/01/rdf-schema#label involving\n",
      "http://trustgraph.ai/e/final-configuration http://www.w3.org/2000/01/rdf-schema#label final configuration\n",
      "http://trustgraph.ai/e/the-cause-of-the-accident http://www.w3.org/2000/01/rdf-schema#label The Cause of the Accident\n",
      "http://trustgraph.ai/e/two-communications-satellites http://www.w3.org/2000/01/rdf-schema#label two communications satellites\n",
      "http://trustgraph.ai/e/is-a http://www.w3.org/2000/01/rdf-schema#label is a\n",
      "http://trustgraph.ai/e/name http://www.w3.org/2000/01/rdf-schema#label name\n",
      "http://trustgraph.ai/e/induced http://www.w3.org/2000/01/rdf-schema#label induced\n",
      "http://trustgraph.ai/e/ability-to-kill http://www.w3.org/2000/01/rdf-schema#label ability to kill\n",
      "http://trustgraph.ai/e/solid-rocket-boosters http://www.w3.org/2000/01/rdf-schema#label Solid Rocket Boosters\n"
     ]
    }
   ],
   "source": [
    "for t in resp:\n",
    "    print(t.s, t.p, t.o)"
   ]
  },
  {
   "cell_type": "code",
   "execution_count": null,
   "id": "ada9301e-cff2-4c02-bb6c-ef00528e9523",
   "metadata": {},
   "outputs": [],
   "source": []
  }
 ],
 "metadata": {
  "kernelspec": {
   "display_name": "Python 3 (ipykernel)",
   "language": "python",
   "name": "python3"
  },
  "language_info": {
   "codemirror_mode": {
    "name": "ipython",
    "version": 3
   },
   "file_extension": ".py",
   "mimetype": "text/x-python",
   "name": "python",
   "nbconvert_exporter": "python",
   "pygments_lexer": "ipython3",
   "version": "3.12.7"
  }
 },
 "nbformat": 4,
 "nbformat_minor": 5
}
