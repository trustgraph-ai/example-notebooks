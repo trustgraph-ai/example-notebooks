{
 "cells": [
  {
   "cell_type": "code",
   "execution_count": 1,
   "id": "594ec88b-1a5e-46c2-b1e9-9d2efd8f3433",
   "metadata": {},
   "outputs": [
    {
     "name": "stdout",
     "output_type": "stream",
     "text": [
      "Collecting trustgraph-base\n",
      "  Using cached trustgraph_base-0.16.4-py3-none-any.whl\n",
      "Collecting pulsar-client (from trustgraph-base)\n",
      "  Using cached pulsar_client-3.5.0-cp312-cp312-manylinux_2_17_x86_64.manylinux2014_x86_64.whl.metadata (1.0 kB)\n",
      "Requirement already satisfied: prometheus-client in /home/mark/work/trustgraph.ai/example-notebooks/env/lib64/python3.12/site-packages (from trustgraph-base) (0.21.0)\n",
      "Requirement already satisfied: certifi in /home/mark/work/trustgraph.ai/example-notebooks/env/lib64/python3.12/site-packages (from pulsar-client->trustgraph-base) (2024.8.30)\n",
      "Using cached pulsar_client-3.5.0-cp312-cp312-manylinux_2_17_x86_64.manylinux2014_x86_64.whl (5.4 MB)\n",
      "Installing collected packages: pulsar-client, trustgraph-base\n",
      "Successfully installed pulsar-client-3.5.0 trustgraph-base-0.16.4\n",
      "\n",
      "\u001b[1m[\u001b[0m\u001b[34;49mnotice\u001b[0m\u001b[1;39;49m]\u001b[0m\u001b[39;49m A new release of pip is available: \u001b[0m\u001b[31;49m24.2\u001b[0m\u001b[39;49m -> \u001b[0m\u001b[32;49m24.3.1\u001b[0m\n",
      "\u001b[1m[\u001b[0m\u001b[34;49mnotice\u001b[0m\u001b[1;39;49m]\u001b[0m\u001b[39;49m To update, run: \u001b[0m\u001b[32;49mpip install --upgrade pip\u001b[0m\n"
     ]
    }
   ],
   "source": [
    "!pip install trustgraph-base"
   ]
  },
  {
   "cell_type": "code",
   "execution_count": 2,
   "id": "950f160f-ef1e-4474-99f0-eccd1ef19269",
   "metadata": {},
   "outputs": [],
   "source": [
    "import trustgraph.api as tg\n",
    "from trustgraph.knowledge import DigitalDocument, Organization\n",
    "from trustgraph.knowledge import PublicationEvent, hash, to_uri\n",
    "from trustgraph.knowledge import PREF_PUBEV, PREF_ORG, PREF_DOC"
   ]
  },
  {
   "cell_type": "code",
   "execution_count": 3,
   "id": "c774e6d5-0f4a-4097-a834-d532df58a1b3",
   "metadata": {},
   "outputs": [],
   "source": [
    "# Open a text document from this repo.  PDFs are binary blobs\n",
    "pdf = open(\"../sources/Challenger-Report-Vol1.pdf\", \"rb\").read()"
   ]
  },
  {
   "cell_type": "code",
   "execution_count": 4,
   "id": "93a96202-1394-4689-a87f-a6d4101d267e",
   "metadata": {},
   "outputs": [],
   "source": [
    "cli = tg.Api()"
   ]
  },
  {
   "cell_type": "code",
   "execution_count": 5,
   "id": "363b05c9-2cd2-4989-9265-266a823bb770",
   "metadata": {},
   "outputs": [],
   "source": [
    "org_id = to_uri(PREF_ORG, \"1dd51ece-8bd3-48b8-98ce-1ac9164c5214\")\n",
    "doc_id = to_uri(PREF_DOC, \"72ef3374-af7a-40c4-8c7b-45050aef5b90\")\n",
    "pub_id = to_uri(PREF_PUBEV, \"59012ae1-65d4-441f-8288-b6f3c6c15333\")"
   ]
  },
  {
   "cell_type": "code",
   "execution_count": 6,
   "id": "d3a71624-eac3-4678-9348-ec13a910b3a6",
   "metadata": {},
   "outputs": [],
   "source": [
    "org = Organization(\n",
    "    id = org_id,\n",
    "    name = \"NASA\",\n",
    ")\n",
    "\n",
    "pubev = PublicationEvent(\n",
    "    id = pub_id,\n",
    "    description = \"Presidential commission publication\",\n",
    "    start_date = \"1986-06-06\",\n",
    "    end_date = \"1986-06-06\",\n",
    "    organization = org,\n",
    ")\n",
    "\n",
    "doc = DigitalDocument(\n",
    "    id = doc_id,\n",
    "    name = \"Challenger Report Volume 1\",\n",
    "    description = \"The findings of the Presidential Commission regarding the circumstances surrounding the Challenger accident are reported and recommendations for corrective action are outlined\",\n",
    "    copyright_holder = \"US Government\",\n",
    "    copyright_notice = \"Work of the US Gov. Public Use Permitted\",\n",
    "    copyright_year = \"1986\",\n",
    "    keywords = [\"nasa\", \"challenger\", \"space-shuttle\", \"shuttle\", \"orbiter\"],\n",
    "    publication = pubev,\n",
    "    url = \"https://ntrs.nasa.gov/citations/19860015255\",\n",
    ")"
   ]
  },
  {
   "cell_type": "code",
   "execution_count": 7,
   "id": "3f0c9cce-7530-4731-92a7-032dc3d8a2d2",
   "metadata": {},
   "outputs": [],
   "source": [
    "cli.load_document(pdf, doc_id, doc)"
   ]
  },
  {
   "cell_type": "code",
   "execution_count": null,
   "id": "ada9301e-cff2-4c02-bb6c-ef00528e9523",
   "metadata": {},
   "outputs": [],
   "source": []
  }
 ],
 "metadata": {
  "kernelspec": {
   "display_name": "Python 3 (ipykernel)",
   "language": "python",
   "name": "python3"
  },
  "language_info": {
   "codemirror_mode": {
    "name": "ipython",
    "version": 3
   },
   "file_extension": ".py",
   "mimetype": "text/x-python",
   "name": "python",
   "nbconvert_exporter": "python",
   "pygments_lexer": "ipython3",
   "version": "3.12.10"
  }
 },
 "nbformat": 4,
 "nbformat_minor": 5
}
