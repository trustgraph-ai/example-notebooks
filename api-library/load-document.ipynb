{
 "cells": [
  {
   "cell_type": "markdown",
   "id": "6e69783a-ff97-425a-b90a-d6445917d344",
   "metadata": {},
   "source": [
    "# Loading a document\n",
    "\n",
    "This notebook demonstrates the use of the TrustGraph librarian API to submit text for processing.\n",
    "\n",
    "The API optionally allows extra arbitrary metadata to be submitted with the document which is associated with the document and added to the triple store.  In this example, we add metadata in a form structured in line with schema.org Organization, PublicationEvent and Document schemas.\n",
    "\n",
    "The additional metadata is optional, the metadata element can be ignored.  However, if additional metadata is known, it can be integrated with TrustGraph processing.\n",
    "\n",
    "This particular processing uses the following API calls:\n",
    "- Load a document into the library\n",
    "- Create a new flow\n",
    "- Submit the document for processing in that flow\n",
    "\n",
    "This will fail if the document, flow and flow submission already exist, so don't execute this notebook more than once."
   ]
  },
  {
   "cell_type": "code",
   "execution_count": 1,
   "id": "594ec88b-1a5e-46c2-b1e9-9d2efd8f3433",
   "metadata": {},
   "outputs": [
    {
     "name": "stdout",
     "output_type": "stream",
     "text": [
      "Requirement already satisfied: trustgraph-base in /home/mark/work/trustgraph.ai/example-notebooks/env/lib64/python3.12/site-packages (1.0.9)\n",
      "Requirement already satisfied: pulsar-client in /home/mark/work/trustgraph.ai/example-notebooks/env/lib64/python3.12/site-packages (from trustgraph-base) (3.5.0)\n",
      "Requirement already satisfied: prometheus-client in /home/mark/work/trustgraph.ai/example-notebooks/env/lib64/python3.12/site-packages (from trustgraph-base) (0.21.0)\n",
      "Requirement already satisfied: certifi in /home/mark/work/trustgraph.ai/example-notebooks/env/lib64/python3.12/site-packages (from pulsar-client->trustgraph-base) (2024.8.30)\n",
      "\n",
      "\u001b[1m[\u001b[0m\u001b[34;49mnotice\u001b[0m\u001b[1;39;49m]\u001b[0m\u001b[39;49m A new release of pip is available: \u001b[0m\u001b[31;49m24.2\u001b[0m\u001b[39;49m -> \u001b[0m\u001b[32;49m25.1.1\u001b[0m\n",
      "\u001b[1m[\u001b[0m\u001b[34;49mnotice\u001b[0m\u001b[1;39;49m]\u001b[0m\u001b[39;49m To update, run: \u001b[0m\u001b[32;49mpip install --upgrade pip\u001b[0m\n"
     ]
    }
   ],
   "source": [
    "!pip install trustgraph-base"
   ]
  },
  {
   "cell_type": "code",
   "execution_count": 2,
   "id": "950f160f-ef1e-4474-99f0-eccd1ef19269",
   "metadata": {},
   "outputs": [],
   "source": [
    "import trustgraph.api as tg\n",
    "from trustgraph.knowledge import DigitalDocument, Organization\n",
    "from trustgraph.knowledge import PublicationEvent, hash, to_uri\n",
    "from trustgraph.knowledge import PREF_PUBEV, PREF_ORG, PREF_DOC\n",
    "import time"
   ]
  },
  {
   "cell_type": "code",
   "execution_count": 3,
   "id": "c774e6d5-0f4a-4097-a834-d532df58a1b3",
   "metadata": {},
   "outputs": [],
   "source": [
    "# Open a text document from this repo.  PDFs are binary blobs\n",
    "pdf = open(\"../sources/Challenger-Report-Vol1.pdf\", \"rb\").read()\n",
    "\n",
    "title = \"Challenger Report Volume 1\""
   ]
  },
  {
   "cell_type": "code",
   "execution_count": 4,
   "id": "93a96202-1394-4689-a87f-a6d4101d267e",
   "metadata": {},
   "outputs": [],
   "source": [
    "cli = tg.Api()"
   ]
  },
  {
   "cell_type": "code",
   "execution_count": 5,
   "id": "363b05c9-2cd2-4989-9265-266a823bb770",
   "metadata": {},
   "outputs": [],
   "source": [
    "org_id = to_uri(PREF_ORG, \"1dd51ece-8bd3-48b8-98ce-1ac9164c5214\")\n",
    "doc_id = to_uri(PREF_DOC, \"72ef3374-af7a-40c4-8c7b-45050aef5b90\")\n",
    "pub_id = to_uri(PREF_PUBEV, \"59012ae1-65d4-441f-8288-b6f3c6c15333\")"
   ]
  },
  {
   "cell_type": "code",
   "execution_count": 6,
   "id": "d3a71624-eac3-4678-9348-ec13a910b3a6",
   "metadata": {},
   "outputs": [],
   "source": [
    "org = Organization(\n",
    "    id = org_id,\n",
    "    name = \"NASA\",\n",
    ")\n",
    "\n",
    "pubev = PublicationEvent(\n",
    "    id = pub_id,\n",
    "    description = \"Presidential commission publication\",\n",
    "    start_date = \"1986-06-06\",\n",
    "    end_date = \"1986-06-06\",\n",
    "    organization = org,\n",
    ")\n",
    "\n",
    "doc = DigitalDocument(\n",
    "    id = doc_id,\n",
    "    name = \"Challenger Report Volume 1\",\n",
    "    description = \"The findings of the Presidential Commission regarding the circumstances surrounding the Challenger accident are reported and recommendations for corrective action are outlined\",\n",
    "    copyright_holder = \"US Government\",\n",
    "    copyright_notice = \"Work of the US Gov. Public Use Permitted\",\n",
    "    copyright_year = \"1986\",\n",
    "    keywords = [\"nasa\", \"challenger\", \"space-shuttle\", \"shuttle\", \"orbiter\"],\n",
    "    publication = pubev,\n",
    "    url = \"https://ntrs.nasa.gov/citations/19860015255\",\n",
    ")"
   ]
  },
  {
   "cell_type": "code",
   "execution_count": 7,
   "id": "3f0c9cce-7530-4731-92a7-032dc3d8a2d2",
   "metadata": {},
   "outputs": [],
   "source": [
    "resp = cli.library().add_document(\n",
    "    document = pdf,\n",
    "    id = doc_id,\n",
    "    metadata = doc,\n",
    "    user = \"trustgraph\",\n",
    "    title = title,\n",
    "    comments = \"A test data document\",\n",
    "    kind = \"application/pdf\",\n",
    "    tags = [ \"nasa\", \"safety engineering\" ]\n",
    ")"
   ]
  },
  {
   "cell_type": "markdown",
   "id": "d80631f6-d8a1-40b8-9fd7-c83002f253fb",
   "metadata": {},
   "source": [
    "# Start a flow"
   ]
  },
  {
   "cell_type": "code",
   "execution_count": 8,
   "id": "cf899052-e983-4011-aba2-0b47f1eb1f1b",
   "metadata": {},
   "outputs": [],
   "source": [
    "cli.flow().start(\n",
    "    class_name = \"document-rag+graph-rag\", \n",
    "    id = \"my-flow2\",\n",
    "    description = \"My new flow\",\n",
    ")"
   ]
  },
  {
   "cell_type": "markdown",
   "id": "21945ed3-b8eb-4157-b00e-d9be846a14fa",
   "metadata": {},
   "source": [
    "# Submit document for processing"
   ]
  },
  {
   "cell_type": "code",
   "execution_count": 9,
   "id": "5a76da56-b60d-41a9-855b-1e47626e81ad",
   "metadata": {},
   "outputs": [
    {
     "data": {
      "text/plain": [
       "{}"
      ]
     },
     "execution_count": 9,
     "metadata": {},
     "output_type": "execute_result"
    }
   ],
   "source": [
    "cli.library().start_processing(\n",
    "    id = \"proc02\",\n",
    "    document_id = doc_id,\n",
    "    flow = \"my-flow2\",\n",
    "    user = \"trustgraph\",\n",
    "    collection = \"default\",\n",
    "    tags = [ \"my document\", \"processing test\" ]\n",
    ")"
   ]
  },
  {
   "cell_type": "code",
   "execution_count": null,
   "id": "f9acd2ab-1d21-4b53-8d01-63e22b8f1dea",
   "metadata": {},
   "outputs": [],
   "source": []
  }
 ],
 "metadata": {
  "kernelspec": {
   "display_name": "Python 3 (ipykernel)",
   "language": "python",
   "name": "python3"
  },
  "language_info": {
   "codemirror_mode": {
    "name": "ipython",
    "version": 3
   },
   "file_extension": ".py",
   "mimetype": "text/x-python",
   "name": "python",
   "nbconvert_exporter": "python",
   "pygments_lexer": "ipython3",
   "version": "3.12.10"
  }
 },
 "nbformat": 4,
 "nbformat_minor": 5
}
